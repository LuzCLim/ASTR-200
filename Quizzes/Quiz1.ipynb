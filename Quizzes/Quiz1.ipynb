{
 "cells": [
  {
   "cell_type": "markdown",
   "metadata": {},
   "source": [
    "# Coding Quiz \\#1\n",
    "\n",
    "Write a function that gives a person their horoscope. It should have one required input (a zodiac sign) and two optional inputs, one called \"beware\" with a default value of \"quizzes\" and one called today with a default value of \"excellent\".\n",
    "\n",
    "This function should do at least ***two*** of the following\n",
    "\n",
    "1. If the input zodiac sign is not in the list, the function should print an error message and exit\n",
    "2. The function should print \"[Zodiac Sign]: Today, your day will be [today]. But beware of [beware].\"\n",
    "3. If the input zodiac sign is \"Ophiuchus\" print \"is that a real constellation?\"\n",
    "4. Find the zodiac sign that comes after the one that was entered and print, \"Due to the precession of the Earth's axis, you are not really a [Input Zodiac], you are a [New Zodiac]. Sorry.\""
   ]
  },
  {
   "cell_type": "code",
   "execution_count": null,
   "metadata": {
    "collapsed": true
   },
   "outputs": [],
   "source": [
    "zodiacs = ['Aries', 'Taurus', 'Gemini', 'Cancer', 'Leo', 'Virgo', 'Libra', 'Scorpio', 'Ophiuchus', \n",
    "           'Sagittarius', 'Capricorn', 'Aquarius', 'Pisces']"
   ]
  },
  {
   "cell_type": "code",
   "execution_count": null,
   "metadata": {
    "collapsed": true
   },
   "outputs": [],
   "source": [
    "#function here"
   ]
  },
  {
   "cell_type": "code",
   "execution_count": null,
   "metadata": {
    "collapsed": true
   },
   "outputs": [],
   "source": [
    "#test statements here"
   ]
  }
 ],
 "metadata": {
  "anaconda-cloud": {},
  "kernelspec": {
   "display_name": "Python [default]",
   "language": "python",
   "name": "python3"
  },
  "language_info": {
   "codemirror_mode": {
    "name": "ipython",
    "version": 3
   },
   "file_extension": ".py",
   "mimetype": "text/x-python",
   "name": "python",
   "nbconvert_exporter": "python",
   "pygments_lexer": "ipython3",
   "version": "3.5.2"
  }
 },
 "nbformat": 4,
 "nbformat_minor": 1
}
