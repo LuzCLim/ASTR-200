{
 "cells": [
  {
   "cell_type": "code",
   "execution_count": null,
   "metadata": {},
   "outputs": [],
   "source": [
    "import numpy as np\n",
    "import matplotlib.pyplot as plt\n",
    "import scipy.stats as stats\n",
    "%matplotlib inline\n",
    "from sklearn.neighbors import KernelDensity "
   ]
  },
  {
   "cell_type": "markdown",
   "metadata": {},
   "source": [
    "## Exercise 1 \n",
    "\n",
    "Let's be explicit about what you did in lab 9, namely:   \n",
    "1) You ***measured*** the means of our two arrays of values (distances and recessional velocities) and computed their covariance matrix (which captures the standard deviations and the correlation coefficient).  \n",
    "2) You used these computed values to create a model of the data (a bivariate gaussian with parameters $\\mu_d, \\mu_v, \\sigma_d, \\sigma_v, r$).   \n",
    "3) You synthesized samples from this data model in a Monte Carlo simulation and computed the two statistics that we cared about from each (correlation coefficient r and slope of best fit line $H_0$).  \n",
    "4) You created histograms of these values, which is essentially a visualization of the Likelihoods of obtaining our data under that model. \n",
    "5) You proposed a Bayesian hypothesis test, most of which involved point estimate comparisons or sums under the histogram. In doing this, you explicitly assumed that you could treat the Likelihood as the Posterior, which is an ok assumption in the case of non-informative priors. \n",
    "\n",
    "Now that you have a little more context about Bayesian hypothesis testing and computation of the Bayes factor, let's do this a bit more rigorously. \n",
    "\n",
    "#### Part A\n",
    "First, bring over only the code that is absolutely necessary to complete steps 1-4. Add a comment to the top of each cell describing its function. \n",
    "\n",
    "#### Part B\n",
    "Below is a cell that makes a \"kernel density estimate\", which is a way of turning your histogram into a smoother continuous function. Comment each line and play around with different values (especially the bandwidth and kernel keywords) until you understand what it is doing, then explain here. \n",
    "\n",
    "#### Part C\n",
    "Compute the area under the entire KDE (by summing). What is it equal to and why? Write a function that will sum under the KDE for an arbitrary range of x values (note values, not indices, so this will require some thought) and return that sum.\n",
    "\n",
    "#### Part D\n",
    "Devise at least two reasonable priors. Explain them and then multiply them by the likelihood to get a posterior, then plot all three on the same plot  \n",
    "\n",
    "#### Part E\n",
    "Calculate Bayes' factor for the following two hypotheses, implementing a reasonable prior: \n",
    "1) The true value of $H_0$ is within 1 standard deviation of the measured value. \n",
    "2) The true value of $H_0$ is NOT within 1 standard deviation of the measured value. \n",
    "\n",
    "#### Part F\n",
    "An alternative way to this kind of hypothesis testing is to devise an alternative hypothesis about the distribution of galaxies in the real universe, draw samples from it via Monte-Carlo, and compare sums under this distrbution. Attempt this variety of Hypothesis test with your remaining time. "
   ]
  },
  {
   "cell_type": "code",
   "execution_count": null,
   "metadata": {},
   "outputs": [],
   "source": [
    "#hlist is your array of $H_0$ values, as an example\n",
    "x_d=np.arange(200,700)\n",
    "kde = KernelDensity(bandwidth=10.0, kernel='gaussian')\n",
    "kde.fit(hlist[:, None])\n",
    "logprob = kde.score_samples(x_d[:, None])\n",
    "plt.fill_between(x_d, np.exp(logprob), alpha=0.5)"
   ]
  },
  {
   "cell_type": "code",
   "execution_count": null,
   "metadata": {},
   "outputs": [],
   "source": []
  }
 ],
 "metadata": {
  "kernelspec": {
   "display_name": "Python 3",
   "language": "python",
   "name": "python3"
  },
  "language_info": {
   "codemirror_mode": {
    "name": "ipython",
    "version": 3
   },
   "file_extension": ".py",
   "mimetype": "text/x-python",
   "name": "python",
   "nbconvert_exporter": "python",
   "pygments_lexer": "ipython3",
   "version": "3.7.3"
  }
 },
 "nbformat": 4,
 "nbformat_minor": 2
}
