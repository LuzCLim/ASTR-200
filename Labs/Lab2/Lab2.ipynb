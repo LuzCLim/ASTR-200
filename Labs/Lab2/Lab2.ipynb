{
 "cells": [
  {
   "cell_type": "markdown",
   "metadata": {},
   "source": [
    "<small><i>Portions of this notebook are based on exercises put together by [Jake Vanderplas](http://www.vanderplas.com), though they've been modified to suit the purposes of this course, including expansion/modification of explanations and additional exercises. Source and license info for the original is on [GitHub](https://github.com/jakevdp/2014_fall_ASTR599/).</i></small>"
   ]
  },
  {
   "cell_type": "markdown",
   "metadata": {},
   "source": [
    "### *** Names: [Insert Your Names Here]***"
   ]
  },
  {
   "cell_type": "markdown",
   "metadata": {},
   "source": [
    "# Lab 2 - Practice with Functions\n",
    "\n",
    "## Lab 2 Contents\n",
    "\n",
    "1. User-specified Input\n",
    "2. More about manipulating strings\n",
    "  * Special Characters\n",
    "  * Concatenating Strings\n",
    "  * Multiple Concatenations\n",
    "  * Comparing Strings\n",
    "3. More about conditionals\n",
    "  * One-line Conditionals\n",
    "  * Break Statements \n",
    "4. Writing and Reading Files with Magic Commands"
   ]
  },
  {
   "cell_type": "code",
   "execution_count": null,
   "metadata": {
    "collapsed": true
   },
   "outputs": [],
   "source": [
    "import numpy as np\n",
    "import astropy.units as u"
   ]
  },
  {
   "cell_type": "markdown",
   "metadata": {},
   "source": [
    "To start, let's put a few of the things that you've learned so far together.\n",
    "\n",
    "<div class=hw>\n",
    "\n",
    "### Exercise 1\n",
    "\n",
    "Copy the two lists mess_nos and mess_names and your Exercise 2 Messier function from the Prelab into the cell below, then modify it to meet the following criteria. Note that the operators introduced in Lab 1 will be quite useful here. \n",
    "\n",
    "1. Test whether the input number is in the list messier_nos (use a membership operator)\n",
    "2. Find the index of the list messier_nos where it is equal to that input number (use the list method \"index\" where listname.index(element) returns the index of element in listname. play around with simple lists that you define if you don't know what I mean here).\n",
    "3. Replace the index in your original print statement with this new index. \n",
    "4. If *input* is not an integer, print \"Only integers are welcome here\"\n",
    "5. If *input* is a number that is greater than 50, print \"So sorry. I only know about the first 50 Messier objects\"\n",
    "6. If *input* is less than 50 but is NOT in the list messier_nos, print \"Messier *input* is not called anything special\"\n",
    "7. If *input* is not an integer, print \"Only integers are welcome here\"\n",
    "8. If input number is odd, set the description to \"awesome\"\n",
    "\n",
    "Below your function in one cell each, insert a test statement that demonstrates each of the new capabilities."
   ]
  },
  {
   "cell_type": "code",
   "execution_count": null,
   "metadata": {
    "collapsed": true
   },
   "outputs": [],
   "source": []
  },
  {
   "cell_type": "markdown",
   "metadata": {},
   "source": [
    "## 1. User-Specified Input\n",
    "\n",
    "Python can also ask the user to specify input interactively, as shown below. Execute the cell to see how it works."
   ]
  },
  {
   "cell_type": "code",
   "execution_count": null,
   "metadata": {
    "collapsed": false
   },
   "outputs": [],
   "source": [
    "faren = input(\"enter a temperature (in Fahrenheit): \")\n",
    "print(faren)"
   ]
  },
  {
   "cell_type": "markdown",
   "metadata": {},
   "source": [
    "<div class=hw>\n",
    "### Exercise 2\n",
    "-----------------------\n",
    "\n",
    "Write a function that has no required input, but one optional argument with a default value \"C\". The function should ask the user what the temperature is and should print that value in Celcius, Farenheit and Kelvin. If the keyword is set to \"F\" or \"K\" it should assume the temperature has been given in Farenheit. Otherwise, it should assume Celcius. "
   ]
  },
  {
   "cell_type": "code",
   "execution_count": null,
   "metadata": {
    "collapsed": true
   },
   "outputs": [],
   "source": []
  },
  {
   "cell_type": "markdown",
   "metadata": {},
   "source": [
    "## 2. More About Manipulating Strings\n",
    "\n",
    "### 2.1 Special Characters\n",
    "\n",
    "backslashes (`\\`) start special (escape) characters, for example:\n",
    "\n",
    "     \\n   = newline  (\\r = return)\n",
    "     \\t   = tab"
   ]
  },
  {
   "cell_type": "code",
   "execution_count": null,
   "metadata": {
    "collapsed": false
   },
   "outputs": [],
   "source": [
    "print(\"the distance ladder in astronomy goes: \\n radar \\n \\t parallax \\n \\t \\t Main Sequence Fitting \\n \\t \\t \\t Cepheids \\n \\t \\t \\t \\t Type Ia Supernovae \\n \\t \\t \\t \\t \\t The Hubble Law\")"
   ]
  },
  {
   "cell_type": "markdown",
   "metadata": {},
   "source": [
    "You'll note that the cell above runs off the edge of the page, which makes it hard to modify. Below is the same statement as a multi-line string, which is defined with triple quotes and doesn't require the \\n for a new line or \\t for tab, etc."
   ]
  },
  {
   "cell_type": "code",
   "execution_count": null,
   "metadata": {
    "collapsed": false
   },
   "outputs": [],
   "source": [
    "y = \"\"\"the distance ladder in astronomy goes:\n",
    "    Radar \n",
    "        Parallax \n",
    "            Main Sequence Fitting\n",
    "                Cepheids\n",
    "                    Type Ia Supernovae\n",
    "                        The Hubble Law\"\"\"\n",
    "print(y)"
   ]
  },
  {
   "cell_type": "markdown",
   "metadata": {},
   "source": [
    "### 2.2 Concatenating strings"
   ]
  },
  {
   "cell_type": "markdown",
   "metadata": {},
   "source": [
    "Putting strings together (\"concatenating\" them) in python is super easy. You just use + and can use a combination of string variables and strings with no problem."
   ]
  },
  {
   "cell_type": "code",
   "execution_count": null,
   "metadata": {
    "collapsed": false
   },
   "outputs": [],
   "source": [
    "#let's define some string variables\n",
    "# note the ; allows us to do two calculations on the same line\n",
    "s = \"spam\" ; e = \"eggs\"\n",
    "print(s + e)"
   ]
  },
  {
   "cell_type": "code",
   "execution_count": null,
   "metadata": {
    "collapsed": false
   },
   "outputs": [],
   "source": [
    "#and put them together\n",
    "print(s + \" and \" + e)"
   ]
  },
  {
   "cell_type": "markdown",
   "metadata": {},
   "source": [
    "All things being concatenated must be strings for this to work though, so mixing in something like an integer won't work. "
   ]
  },
  {
   "cell_type": "code",
   "execution_count": null,
   "metadata": {
    "collapsed": false
   },
   "outputs": [],
   "source": [
    "# this one won't work\n",
    "print('I want' + 3 + ' eggs and no ' + s)"
   ]
  },
  {
   "cell_type": "code",
   "execution_count": null,
   "metadata": {
    "collapsed": false
   },
   "outputs": [],
   "source": [
    "# but this will\n",
    "print('I want ' + str(3) + ' eggs and no ' + s)"
   ]
  },
  {
   "cell_type": "markdown",
   "metadata": {},
   "source": [
    "### 2.3 Multiple Concatenations"
   ]
  },
  {
   "cell_type": "markdown",
   "metadata": {},
   "source": [
    "Python also allows you to duplicate string variables with the multiplication symbol, as below."
   ]
  },
  {
   "cell_type": "code",
   "execution_count": null,
   "metadata": {
    "collapsed": false
   },
   "outputs": [],
   "source": [
    "print(s*3 + e)"
   ]
  },
  {
   "cell_type": "code",
   "execution_count": null,
   "metadata": {
    "collapsed": false
   },
   "outputs": [],
   "source": [
    "print(\"*\" * 50)"
   ]
  },
  {
   "cell_type": "markdown",
   "metadata": {},
   "source": [
    "### 2.4 Comparing Strings\n",
    "\n",
    "Strings can also be compared using standard operators. Try to figure out why each of the lines below has a given output. When you think you've figured it out, test your theory by modifying the strings to try and get a different answer."
   ]
  },
  {
   "cell_type": "code",
   "execution_count": null,
   "metadata": {
    "collapsed": false
   },
   "outputs": [],
   "source": [
    "print(\"spam\" == \"good\"); print(\"spam\" == \"spam\")"
   ]
  },
  {
   "cell_type": "code",
   "execution_count": null,
   "metadata": {
    "collapsed": false
   },
   "outputs": [],
   "source": [
    "\"cosmology\" < \"exoplanets\""
   ]
  },
  {
   "cell_type": "code",
   "execution_count": null,
   "metadata": {
    "collapsed": false
   },
   "outputs": [],
   "source": [
    "\"Hubble\" < \"JWST\""
   ]
  },
  {
   "cell_type": "markdown",
   "metadata": {},
   "source": [
    "<div class=hw>\n",
    "### Exercise 3\n",
    "------------------\n",
    "\n",
    "Write a function that does the following:  \n",
    "    1) Takes a required input ***string array*** containing the names of the people in your group.  \n",
    "    2) Asks the person with the longer name for their order first  \n",
    "    3) Asks each person to enter (using user input) how many eggs they want, and then whether or not they want spam  \n",
    "    4) prints the order in the form \"*name* wants *x* eggs and *[spam/no spam]*\" with a new line between the two orders  \n",
    "    5) prints \"name:\" + \"egg\" a number of times equal to the number of eggs ordered + \"and\" + \"SPAM!\" or \"NO SPAM!\" "
   ]
  },
  {
   "cell_type": "code",
   "execution_count": null,
   "metadata": {
    "collapsed": true
   },
   "outputs": [],
   "source": []
  },
  {
   "cell_type": "markdown",
   "metadata": {},
   "source": [
    "## 3. More about Conditionals\n",
    "\n",
    "### 3.1 One-Line Conditionals"
   ]
  },
  {
   "cell_type": "markdown",
   "metadata": {},
   "source": [
    "Sometimes it's useful to be able to write conditionals more succinctly. For example, the conditional below:"
   ]
  },
  {
   "cell_type": "code",
   "execution_count": null,
   "metadata": {
    "collapsed": true
   },
   "outputs": [],
   "source": [
    "x=1"
   ]
  },
  {
   "cell_type": "code",
   "execution_count": null,
   "metadata": {
    "collapsed": false
   },
   "outputs": [],
   "source": [
    "if x > 0:\n",
    "    print(\"yo\")\n",
    "else:\n",
    "    print(\"dude\")"
   ]
  },
  {
   "cell_type": "markdown",
   "metadata": {},
   "source": [
    "can be written in one line as"
   ]
  },
  {
   "cell_type": "code",
   "execution_count": null,
   "metadata": {
    "collapsed": false
   },
   "outputs": [],
   "source": [
    "\"yo\" if x > 0 else \"dude\""
   ]
  },
  {
   "cell_type": "markdown",
   "metadata": {},
   "source": [
    "Note that this requires a slightly modified syntax (mainly the removal of the colon). These one line conditionals are often useful inside of function calls, for example. "
   ]
  },
  {
   "cell_type": "code",
   "execution_count": null,
   "metadata": {
    "collapsed": false
   },
   "outputs": [],
   "source": [
    "# conditionals can lie within function calls\n",
    "print(\"yo\" if x > 0 else \"dude\")"
   ]
  },
  {
   "cell_type": "code",
   "execution_count": null,
   "metadata": {
    "collapsed": true
   },
   "outputs": [],
   "source": [
    "z = \"no\""
   ]
  },
  {
   "cell_type": "code",
   "execution_count": null,
   "metadata": {
    "collapsed": false
   },
   "outputs": [],
   "source": [
    "np.sin(np.pi if z==\"yes\" else 0)"
   ]
  },
  {
   "cell_type": "markdown",
   "metadata": {},
   "source": [
    "### 3.2 Break Statements \n",
    "\n",
    "Break statements allow you to terminate/exit a loop, as in the following example:"
   ]
  },
  {
   "cell_type": "code",
   "execution_count": null,
   "metadata": {
    "collapsed": false
   },
   "outputs": [],
   "source": [
    "x=1; y=0\n",
    "#can also do this with a break statement\n",
    "while True:\n",
    "    print(\"yo\" if x > 0 else \"dude\")\n",
    "    x *= -1\n",
    "    y += 1\n",
    "    if y >= 10:\n",
    "        break"
   ]
  },
  {
   "cell_type": "markdown",
   "metadata": {},
   "source": [
    "## 4. Writing and Reading Files with Magic Commands"
   ]
  },
  {
   "cell_type": "code",
   "execution_count": null,
   "metadata": {
    "collapsed": false
   },
   "outputs": [],
   "source": [
    "%%file number_game.py\n",
    "# The above \"magic\" command, denoted with the double %% saves the contents\n",
    "# of the current cell to file.  We'll see more of these later\n",
    "\n",
    "x = 0\n",
    "max_tries = 10\n",
    "count = 0\n",
    "\n",
    "while True:\n",
    "    x_new = int(input(\"Enter a new number: \"))\n",
    "    if x_new > x:\n",
    "        print(\" -> it's bigger than the last!\")\n",
    "    elif x_new < x:\n",
    "        print(\" -> it's smaller than the last!\")\n",
    "    else:\n",
    "        print(\" -> no change!  I'll exit now\")\n",
    "        break\n",
    "        \n",
    "    x = x_new\n",
    "        \n",
    "    count += 1\n",
    "    if count > max_tries:\n",
    "        print(\"too many tries...\")\n",
    "        break"
   ]
  },
  {
   "cell_type": "code",
   "execution_count": null,
   "metadata": {
    "collapsed": false
   },
   "outputs": [],
   "source": [
    "%run number_game.py\n",
    "# this magic command runs the given file. It's like typing python number_game.py in the command line"
   ]
  },
  {
   "cell_type": "markdown",
   "metadata": {},
   "source": [
    "<div class=hw>\n",
    "### Exercise 4\n",
    "-------------------\n",
    "\n",
    "Create a program (and write it to a .py file) which repeatedly asks the user for a word. The program should append all the words together. When the user types a \"!\", \"?\", or a \".\", the program should print the resulting sentence and exit.\n",
    "For example, a session might look like this:  \n",
    "\n",
    "%run exercise2.py  \n",
    "Enter a word (. ! or ? to end): My  \n",
    "Enter a word (. ! or ? to end): name  \n",
    "Enter a word (. ! or ? to end): is  \n",
    "Enter a word (. ! or ? to end): Walter  \n",
    "Enter a word (. ! or ? to end): White  \n",
    "Enter a word (. ! or ? to end): !  \n",
    "\n",
    "My name is Walter White!"
   ]
  },
  {
   "cell_type": "code",
   "execution_count": null,
   "metadata": {
    "collapsed": true
   },
   "outputs": [],
   "source": [
    "#insert test statement"
   ]
  },
  {
   "cell_type": "markdown",
   "metadata": {},
   "source": [
    "<div class=hw>\n",
    "### Exercise 5 (a classic)\n",
    "--------------------\n",
    "\n",
    "Write a program (and write it to a python file using a magic function) that prints the numbers from 1 to 100. But for multiples of three prints “Fizz” instead of the number and for the multiples of five print “Buzz”. For numbers which are multiples of both three and five print “FizzBuzz” instead of the number."
   ]
  },
  {
   "cell_type": "code",
   "execution_count": null,
   "metadata": {
    "collapsed": true
   },
   "outputs": [],
   "source": [
    "#insert test statement"
   ]
  },
  {
   "cell_type": "code",
   "execution_count": 1,
   "metadata": {
    "collapsed": false
   },
   "outputs": [
    {
     "data": {
      "text/html": [
       "<style>\n",
       "div.hw {    \n",
       "    background-color: #fcf2f2;\n",
       "    border-color: #dFb5b4;\n",
       "    border-left: 5px solid #dfb5b4;\n",
       "    padding: 0.5em;\n",
       "    }\n",
       " </style>\n",
       "\n",
       "<style>\n",
       "div.sidebar {    \n",
       "    background-color: #d3d3d3;\n",
       "    border-color: #dFb5b4;\n",
       "    border-left: 5px solid #dfb5b4;\n",
       "    padding: 0.5em;\n",
       "    }\n",
       " </style>"
      ],
      "text/plain": [
       "<IPython.core.display.HTML object>"
      ]
     },
     "execution_count": 1,
     "metadata": {},
     "output_type": "execute_result"
    }
   ],
   "source": [
    "from IPython.core.display import HTML\n",
    "def css_styling():\n",
    "    styles = open(\"../../custom.css\", \"r\").read()\n",
    "    return HTML(styles)\n",
    "css_styling()"
   ]
  },
  {
   "cell_type": "code",
   "execution_count": null,
   "metadata": {
    "collapsed": true
   },
   "outputs": [],
   "source": []
  }
 ],
 "metadata": {
  "anaconda-cloud": {},
  "kernelspec": {
   "display_name": "Python [default]",
   "language": "python",
   "name": "python3"
  },
  "language_info": {
   "codemirror_mode": {
    "name": "ipython",
    "version": 3
   },
   "file_extension": ".py",
   "mimetype": "text/x-python",
   "name": "python",
   "nbconvert_exporter": "python",
   "pygments_lexer": "ipython3",
   "version": "3.5.2"
  }
 },
 "nbformat": 4,
 "nbformat_minor": 0
}
