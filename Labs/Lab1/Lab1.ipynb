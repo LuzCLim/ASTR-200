{
 "cells": [
  {
   "cell_type": "markdown",
   "metadata": {},
   "source": [
    "*portions of this notebook were adapted from [Mark Krumholz's public course notes](https://sites.google.com/a/ucsc.edu/krumholz/teaching-and-courses/)*"
   ]
  },
  {
   "cell_type": "markdown",
   "metadata": {},
   "source": [
    "### *** Name: [Insert Your Name Here]***"
   ]
  },
  {
   "cell_type": "markdown",
   "metadata": {},
   "source": [
    "# Lab 1 -  Operators and Arrays\n",
    "\n",
    "As we build up to writing more complex Python programs called \"functions\" next week, there are two more concepts that you need to be familiar with - operators and functions. The bulk of this lab will be related to learning about these important ideas. \n",
    "\n",
    "## Lab 1 Contents\n",
    "\n",
    "1. Operators\n",
    "2. Lists\n",
    "3. Arrays\n",
    "    * Defining arrays\n",
    "    * Array manipulation\n",
    "    * Multidimensional arrays\n",
    "    * Array attributes"
   ]
  },
  {
   "cell_type": "markdown",
   "metadata": {},
   "source": [
    "# 1. Operators \n",
    "\n",
    "To begin, install Jake Van \"Basic Python Semantics: Operators\" Jupyter notebook from the *Whirlwind Tour of Python*. Follow along in the notebook and discuss it with one another. Change values in cells as necessary to make sure you understand what everything is doing. You can more or less ignore the bit on bitwise operators, which are not really useful for our purposes. Once done, complete the following exercises"
   ]
  },
  {
   "cell_type": "markdown",
   "metadata": {},
   "source": [
    "<div class=hw>\n",
    "\n",
    "### Exercise 1a\n",
    "-------------\n",
    "\n",
    "Define a pair of numerical values and assign them unique variable names (we'll use x and y as a proxy in the explanation here). Ignoring the fact that you know what their values are, use logical comparison operations (e.g. x>y) in 1 code cell each to test   \n",
    "(a) whether x is equal to y  \n",
    "(b) whether x is not equal to y  \n",
    "(c) whether x is less than or equal to y."
   ]
  },
  {
   "cell_type": "code",
   "execution_count": null,
   "metadata": {},
   "outputs": [],
   "source": []
  },
  {
   "cell_type": "code",
   "execution_count": null,
   "metadata": {},
   "outputs": [],
   "source": []
  },
  {
   "cell_type": "code",
   "execution_count": null,
   "metadata": {},
   "outputs": [],
   "source": []
  },
  {
   "cell_type": "markdown",
   "metadata": {},
   "source": [
    "<div class=hw>\n",
    "\n",
    "### Exercise 1b\n",
    "-------------\n",
    "Add a comment to each of the following lines of code stating what it is doing (you may wish to print them or add code cells to do some testing in order to tell. Clean all of these up before handing it in so that the cells below only have the code and your comment about what it's doing."
   ]
  },
  {
   "cell_type": "code",
   "execution_count": null,
   "metadata": {},
   "outputs": [],
   "source": [
    "x=0"
   ]
  },
  {
   "cell_type": "code",
   "execution_count": null,
   "metadata": {},
   "outputs": [],
   "source": [
    "x+=10\n"
   ]
  },
  {
   "cell_type": "code",
   "execution_count": null,
   "metadata": {},
   "outputs": [],
   "source": [
    "x/=5\n"
   ]
  },
  {
   "cell_type": "code",
   "execution_count": null,
   "metadata": {},
   "outputs": [],
   "source": [
    "x*=100\n"
   ]
  },
  {
   "cell_type": "code",
   "execution_count": null,
   "metadata": {},
   "outputs": [],
   "source": [
    "x//17"
   ]
  },
  {
   "cell_type": "code",
   "execution_count": null,
   "metadata": {},
   "outputs": [],
   "source": [
    "x**2"
   ]
  },
  {
   "cell_type": "markdown",
   "metadata": {},
   "source": [
    "<div class=hw>\n",
    "### Exercise 1c\n",
    "-------------\n",
    "\n",
    "Use comparison operators to write checks of the following statements in one code cell each  \n",
    "a. 3849 is divisible by three  \n",
    "b. 8$^5$ is between 1000 and 10000  \n",
    "c. 42 is even ***and*** NOT a multiple of 12  "
   ]
  },
  {
   "cell_type": "code",
   "execution_count": null,
   "metadata": {},
   "outputs": [],
   "source": [
    "#check 1"
   ]
  },
  {
   "cell_type": "code",
   "execution_count": null,
   "metadata": {},
   "outputs": [],
   "source": [
    "#check 2"
   ]
  },
  {
   "cell_type": "code",
   "execution_count": null,
   "metadata": {},
   "outputs": [],
   "source": [
    "#check 3"
   ]
  },
  {
   "cell_type": "markdown",
   "metadata": {},
   "source": [
    "# Lists"
   ]
  },
  {
   "cell_type": "markdown",
   "metadata": {},
   "source": [
    "Another useful type of python object is called a list, and lists are defined with square brackets. Lists are slightly different from arrays, which will be discussed in the next section, but many operations work on both. Lists can have objects with different types stored inside them."
   ]
  },
  {
   "cell_type": "code",
   "execution_count": null,
   "metadata": {},
   "outputs": [],
   "source": [
    "A = [\"I\",\"am\",\"a\",\"list\",\"of\",\"strings\",\"a\",\"b\",\"c\",\"d\"]\n",
    "A"
   ]
  },
  {
   "cell_type": "code",
   "execution_count": null,
   "metadata": {},
   "outputs": [],
   "source": [
    "B=[\"I\",\"am\",\"a\",\"list\",\"of\",\"strings\",\"and\",\"numbers\",1,2,3,4]\n",
    "B"
   ]
  },
  {
   "cell_type": "markdown",
   "metadata": {},
   "source": [
    "<div class=hw>\n",
    "### Exercise 2a\n",
    "-------------\n",
    "\n",
    "Operators are pretty useful for comparing lists. Add a comment to each of the cells below describing what the test is and why it is true or false."
   ]
  },
  {
   "cell_type": "code",
   "execution_count": null,
   "metadata": {},
   "outputs": [],
   "source": [
    "A is B"
   ]
  },
  {
   "cell_type": "code",
   "execution_count": null,
   "metadata": {},
   "outputs": [],
   "source": [
    "1 in B"
   ]
  },
  {
   "cell_type": "code",
   "execution_count": null,
   "metadata": {},
   "outputs": [],
   "source": [
    "\"b\" not in B"
   ]
  },
  {
   "cell_type": "markdown",
   "metadata": {},
   "source": [
    "<div class=hw>\n",
    "### Exercise 2b\n",
    "-------------\n",
    "\n",
    "Create two lists of your own and three tests with identity and/or membership operators."
   ]
  },
  {
   "cell_type": "code",
   "execution_count": null,
   "metadata": {},
   "outputs": [],
   "source": [
    "#define lists here"
   ]
  },
  {
   "cell_type": "code",
   "execution_count": null,
   "metadata": {},
   "outputs": [],
   "source": [
    "#test one"
   ]
  },
  {
   "cell_type": "code",
   "execution_count": null,
   "metadata": {},
   "outputs": [],
   "source": [
    "#test two"
   ]
  },
  {
   "cell_type": "code",
   "execution_count": null,
   "metadata": {},
   "outputs": [],
   "source": [
    "#test three"
   ]
  },
  {
   "cell_type": "markdown",
   "metadata": {},
   "source": [
    "## 3. Arrays\n",
    "\n",
    "### 3.1 Defining Arrays\n",
    "\n",
    "The variables we have dealt with so far are fairly simple. They represent single values. However, for scientific or numeric purposes we often want to deal with large collections of numbers. The basic tool for doing this is an array. Arrays are not part of the core python language, but they are part of a very commonly used code module called numpy. "
   ]
  },
  {
   "cell_type": "code",
   "execution_count": null,
   "metadata": {},
   "outputs": [],
   "source": [
    "import numpy"
   ]
  },
  {
   "cell_type": "markdown",
   "metadata": {},
   "source": [
    "Once loaded, you can take advantage of any numpy function (like the \"type\" function that is part of the python core language) by typing numpy.functionname. For example, the square root (sqrt) function:"
   ]
  },
  {
   "cell_type": "code",
   "execution_count": null,
   "metadata": {},
   "outputs": [],
   "source": [
    "numpy.sqrt(16)"
   ]
  },
  {
   "cell_type": "markdown",
   "metadata": {},
   "source": [
    "As we will use numpy a lot, it is convenient to import it under a shorter pseudonym, as below. This can be anything really, but it's easiest to use something that will be easy to remember. The standard short name for numpy is np"
   ]
  },
  {
   "cell_type": "code",
   "execution_count": null,
   "metadata": {},
   "outputs": [],
   "source": [
    "import numpy as np"
   ]
  },
  {
   "cell_type": "code",
   "execution_count": null,
   "metadata": {},
   "outputs": [],
   "source": [
    "np.pi"
   ]
  },
  {
   "cell_type": "markdown",
   "metadata": {},
   "source": [
    "OK back to arrays, which besides built in mathematical functions like square roots, exponentials, etc., are one of the most common uses of the numpy library. \n",
    "\n",
    "Formally, an array is a collection of objects that all have the same type: a collection of integers, or floats, or booleans, or anything else. In the simplest case, these are simply arranged into a numbered list, one after another. Think of an array as a box with a bunch of numbered compartments, each of which can hold something. For example, here is a box with eight compartments.\n",
    "\n",
    "![](array_fig1.png \"A Blank Array\") \n",
    "\n",
    "In python, and in many (but not all) computer languages, we start counting at 0, so that the first compartment is compartment 0, the second is compartment 1, and so forth. We can create an array in python in a few different ways. One is just to explicitly list the elements we want it to contain. The syntax is straightforward:"
   ]
  },
  {
   "cell_type": "code",
   "execution_count": null,
   "metadata": {},
   "outputs": [],
   "source": [
    "x = np.array([10,11,12,13,14,15,16,17])"
   ]
  },
  {
   "cell_type": "markdown",
   "metadata": {},
   "source": [
    "This puts the values we specified into the appropriate compartments in the box. The array x can be thought of like this:\n",
    "\n",
    "![](array_fig2.png \"A Populated Array\")\n",
    "\n",
    "note that there is no output here, because again we are defining a variable. You can see it and check the stored values by typing the variable name."
   ]
  },
  {
   "cell_type": "code",
   "execution_count": null,
   "metadata": {},
   "outputs": [],
   "source": [
    "x"
   ]
  },
  {
   "cell_type": "markdown",
   "metadata": {},
   "source": [
    "If you type the array you've defined, you'll also see that is is a special new kind of numpy variable."
   ]
  },
  {
   "cell_type": "code",
   "execution_count": null,
   "metadata": {},
   "outputs": [],
   "source": [
    "type(x)"
   ]
  },
  {
   "cell_type": "markdown",
   "metadata": {},
   "source": [
    "*For those of you who have used python before, note that an array is different from a list (defined simply with square brackets, e.g. a = [1,2,3,4,5]). There are some subtle differences between the two, but the principal practical difference is that you can do arithmetic operations on arrays, but not lists.*\n",
    "\n",
    "In this case the array we have created is an array of integers, since each of the entries we specified was an integer. If one of them had been a floating point number (for example if we changed the 10 to 10.0), then the array would have been an array of floats, meaning that EACH entry would have been made a float. Remember the rule: every element of an array must have the same type, so if you make one them into a float, then all of them will be floats.\n",
    "\n",
    "Another way to create an array is to simply give the number of elements, and set them all to be zero initially. This can be done with the zeros command:"
   ]
  },
  {
   "cell_type": "code",
   "execution_count": null,
   "metadata": {},
   "outputs": [],
   "source": [
    "y = np.zeros(8)\n",
    "y"
   ]
  },
  {
   "cell_type": "markdown",
   "metadata": {},
   "source": [
    "The zeros command creates an array with the specified number of elements, and sets them all to zero. Note that they are all floats (you can tell from the decimal point after each zero), which is what the zeros command creates by default. If you want some other data type, you can specify it using an option built into the zeros command called \"dtype\", which allows you to specify the data type you want:"
   ]
  },
  {
   "cell_type": "code",
   "execution_count": null,
   "metadata": {},
   "outputs": [],
   "source": [
    "yint = np.zeros(8, dtype='int')\n",
    "yint"
   ]
  },
  {
   "cell_type": "markdown",
   "metadata": {},
   "source": [
    "<div class=sidebar>\n",
    "\n",
    "### Sidebar - Function options/keywords\n",
    "-----------------------\n",
    "\n",
    "Say you know you want to use the numpy function zeros to define an integer array, but you can't remember the syntax for the option, its name, etc. To find out what is available, you can use one of the special functions of a Jupyter code cell by following the function name with a question mark, as below:"
   ]
  },
  {
   "cell_type": "code",
   "execution_count": null,
   "metadata": {},
   "outputs": [],
   "source": [
    "np.zeros?"
   ]
  },
  {
   "cell_type": "markdown",
   "metadata": {},
   "source": [
    "<div class=sidebar>\n",
    "This opens the function's \"docstring\" in a separate pane, which you can close at will once you're done with it. This docstring will list the available options (keywords), and will often give examples of their usage. A good descriptive docstring is a very important part of writing functions, as we will discuss in detail next week. "
   ]
  },
  {
   "cell_type": "markdown",
   "metadata": {},
   "source": [
    "The analogous numpy function \"ones\" creates an array where every element is 1. Here too, the default data type is float."
   ]
  },
  {
   "cell_type": "code",
   "execution_count": null,
   "metadata": {},
   "outputs": [],
   "source": [
    "z = np.ones(8)\n",
    "z"
   ]
  },
  {
   "cell_type": "markdown",
   "metadata": {},
   "source": [
    "A third and very useful way to create arrays is using the arange command. This creates an array with specified starting and ending values, and with a specified step size. For example:"
   ]
  },
  {
   "cell_type": "code",
   "execution_count": null,
   "metadata": {},
   "outputs": [],
   "source": [
    "w = np.arange(0,16,2)\n",
    "w"
   ]
  },
  {
   "cell_type": "markdown",
   "metadata": {},
   "source": [
    "The first argument to arange is the starting value, the second is the ending value (notice that this is exclusive, not inclusive, so in the above example the array z does not contain the number 16), and the final entry is the step size. \n",
    "\n",
    "Again, because all the entries were integers, the array consists of integers. If one of them had been a float, the array would have contained floats. \n",
    "\n",
    "Note that one can omit the final entry in arange, in which case the step size defaults to a value of 1. One can also omit the second entry (for example just say arange(8)), in which case the array created starts with 0 as the first entry, has a step size of 1, and contains the number of entries specified in the argument. Thus arange(8) creates an array that contains the numbers 0 to 7."
   ]
  },
  {
   "cell_type": "code",
   "execution_count": null,
   "metadata": {},
   "outputs": [],
   "source": [
    "np.arange(8)"
   ]
  },
  {
   "cell_type": "markdown",
   "metadata": {},
   "source": [
    "### 3.2 Array Manipulation\n",
    "\n",
    "So how do we deal with arrays? What can we do with them?\n",
    "\n",
    "One way to deal with an array is to interact with its elements individually. We can do that by specifying their index, which designates which compartment in the box we want to access. We can then print out values, alter them, or do any other operation on them we could do with a simple number. The way we index an array is by putting a number in square brackets after it. For example:"
   ]
  },
  {
   "cell_type": "code",
   "execution_count": null,
   "metadata": {},
   "outputs": [],
   "source": [
    "x[2]"
   ]
  },
  {
   "cell_type": "code",
   "execution_count": null,
   "metadata": {},
   "outputs": [],
   "source": [
    "type(x[2])"
   ]
  },
  {
   "cell_type": "code",
   "execution_count": null,
   "metadata": {},
   "outputs": [],
   "source": [
    "x[2]*2"
   ]
  },
  {
   "cell_type": "code",
   "execution_count": null,
   "metadata": {},
   "outputs": [],
   "source": [
    "x[2] = 32\n",
    "x"
   ]
  },
  {
   "cell_type": "markdown",
   "metadata": {},
   "source": [
    "In the examples above, we printed out the value stored in compartment number 2 of the array x, we checked the type of value stored in that compartment (in this case, a 64 bit integer), we multiplied it by 2 to get a result, and then we assigned a different value (32) to that compartment, erasing its original value.\n",
    "\n",
    "So why are arrays more useful than just individual variables? There are a number of reasons, but one of the most important is called broadcasting, meaning that we can access, perform arithmetic with, and alter multiple elements of an array at once. We specify parts of an array by giving a range of indices in the square brackets, separated by a colon. For example,"
   ]
  },
  {
   "cell_type": "code",
   "execution_count": null,
   "metadata": {},
   "outputs": [],
   "source": [
    "x[1:4]"
   ]
  },
  {
   "cell_type": "markdown",
   "metadata": {},
   "source": [
    "Here the number before the colon specifies the starting index, and the number after the colon specifies the ending index; **this is exclusive, not inclusive, so the ending index element is not included**. If we omit the number before the colon, the region of the array we are referring to is assumed to start from element 0, and if we omit the number after the colon, it is assumed to end at the last element, as below:"
   ]
  },
  {
   "cell_type": "code",
   "execution_count": null,
   "metadata": {},
   "outputs": [],
   "source": [
    "x[:4]"
   ]
  },
  {
   "cell_type": "code",
   "execution_count": null,
   "metadata": {},
   "outputs": [],
   "source": [
    "x[4:]"
   ]
  },
  {
   "cell_type": "markdown",
   "metadata": {},
   "source": [
    "We can also specify that we want not every element, but every 2nd element, or every 3rd element, etc., within our specified range. For example:"
   ]
  },
  {
   "cell_type": "code",
   "execution_count": null,
   "metadata": {},
   "outputs": [],
   "source": [
    "x[::2]"
   ]
  },
  {
   "cell_type": "markdown",
   "metadata": {},
   "source": [
    "Here the empty space before the first colon says to start at element 0, the empty space between the first and second colons says to end at the end of the array, and the number 2 after the colon says to access every 2nd element, rather than every element, which is the default.\n",
    "\n",
    "Finally, array indices can be specified either as positive numbers, which count from the beginning, or as negative numbers, which count from the end. The last element is -1, the second to last is -2, and so forth, as shown below:\n",
    "\n",
    "![](array_fig3.png \"Array Indexing\") \n",
    "\n",
    "This is convenient, for example, if one wants to refer to all but the last 2 elements of an array:"
   ]
  },
  {
   "cell_type": "code",
   "execution_count": null,
   "metadata": {},
   "outputs": [],
   "source": [
    "x[:-2]"
   ]
  },
  {
   "cell_type": "markdown",
   "metadata": {},
   "source": [
    "The really useful thing is that one can use this capability to perform mathematical operations or assignments to multiple elements of an array at once. Several examples are given below. Execute the cell, examine the output, and make sure you understand what happened to the array before moving on. "
   ]
  },
  {
   "cell_type": "code",
   "execution_count": null,
   "metadata": {},
   "outputs": [],
   "source": [
    "x-10"
   ]
  },
  {
   "cell_type": "code",
   "execution_count": null,
   "metadata": {},
   "outputs": [],
   "source": [
    "x[1:4]-10"
   ]
  },
  {
   "cell_type": "code",
   "execution_count": null,
   "metadata": {},
   "outputs": [],
   "source": [
    "x[1:4]=-10\n",
    "x"
   ]
  },
  {
   "cell_type": "code",
   "execution_count": null,
   "metadata": {},
   "outputs": [],
   "source": [
    "x[::2]=5\n",
    "x"
   ]
  },
  {
   "cell_type": "markdown",
   "metadata": {},
   "source": [
    "One can also do operations involving two arrays with the same number of elements. These operations are performed element by element. For example:"
   ]
  },
  {
   "cell_type": "code",
   "execution_count": null,
   "metadata": {},
   "outputs": [],
   "source": [
    "arr1 = np.arange(10)"
   ]
  },
  {
   "cell_type": "code",
   "execution_count": null,
   "metadata": {},
   "outputs": [],
   "source": [
    "arr2 = np.arange(10)*2"
   ]
  },
  {
   "cell_type": "code",
   "execution_count": null,
   "metadata": {},
   "outputs": [],
   "source": [
    "arr1 + arr2"
   ]
  },
  {
   "cell_type": "markdown",
   "metadata": {},
   "source": [
    "In this example, x is filled with 0, 1, 2, ... 9, and y is filled with 0, 2, 4, ... 18. When we add them, we get 0, 3, 6, ... 27. The arrays are added together one element at a time, producing an output array that has the same number of elements as the two inputs.\n",
    "\n",
    "These capabilities for manipulating multiple elements at once are very convenient for manipulating large groups of numbers.\n",
    "\n",
    "### 3.3 Multidimensional arrays\n",
    "\n",
    "The arrays we've played with so far are one-dimensional, meaning that they look like a series of boxes laid out in a line. However, arrays can be multidimensional as well. For example:"
   ]
  },
  {
   "cell_type": "code",
   "execution_count": null,
   "metadata": {},
   "outputs": [],
   "source": [
    "x2d = np.array([[10,11,12,13,14,15,16,17], [20,21,22,23,24,25,26,27], [30, 31, 32, 33, 34, 35, 36, 37]])\n",
    "x2d"
   ]
  },
  {
   "cell_type": "markdown",
   "metadata": {},
   "source": [
    "You can think of this as a box with multiple rows of compartments:\n",
    "![](array_fig4.png \"2D Array\") \n",
    "\n",
    "The zeros and ones commands also work in multiple dimensions. You just have to specify the size of each dimension:"
   ]
  },
  {
   "cell_type": "code",
   "execution_count": null,
   "metadata": {},
   "outputs": [],
   "source": [
    "y2d = np.zeros((3,7))\n",
    "y2d"
   ]
  },
  {
   "cell_type": "markdown",
   "metadata": {},
   "source": [
    "Similarly, one can index multi-dimensional arrays just by indexing each dimension in turn. Execute each of the cells below and make sure you understand what it is doing."
   ]
  },
  {
   "cell_type": "code",
   "execution_count": null,
   "metadata": {},
   "outputs": [],
   "source": [
    "x2d[0,0]"
   ]
  },
  {
   "cell_type": "code",
   "execution_count": null,
   "metadata": {},
   "outputs": [],
   "source": [
    "x2d[0,:]"
   ]
  },
  {
   "cell_type": "code",
   "execution_count": null,
   "metadata": {},
   "outputs": [],
   "source": [
    "x2d[:,1]"
   ]
  },
  {
   "cell_type": "code",
   "execution_count": null,
   "metadata": {},
   "outputs": [],
   "source": [
    "x2d[:,1:4]"
   ]
  },
  {
   "cell_type": "markdown",
   "metadata": {},
   "source": [
    "Arrays can of course have more than two dimensions as well. In fact, there is no limit to how many dimensions they can have.\n",
    "\n",
    "You can also do useful things like find the maximum and minimum values in arrays, and their means and totals:"
   ]
  },
  {
   "cell_type": "code",
   "execution_count": null,
   "metadata": {},
   "outputs": [],
   "source": [
    "np.amin(x2d)"
   ]
  },
  {
   "cell_type": "code",
   "execution_count": null,
   "metadata": {},
   "outputs": [],
   "source": [
    "np.amax(x2d)"
   ]
  },
  {
   "cell_type": "code",
   "execution_count": null,
   "metadata": {},
   "outputs": [],
   "source": [
    "np.mean(x2d)"
   ]
  },
  {
   "cell_type": "code",
   "execution_count": null,
   "metadata": {},
   "outputs": [],
   "source": [
    "np.sum(x2d)"
   ]
  },
  {
   "cell_type": "markdown",
   "metadata": {},
   "source": [
    "### 3.4 Array Attributes\n",
    "\n",
    "Much of astronomy is image manipulation, and images are essentially very large arrays (large enough that it no longer becomes practical to print them to the window as we've been doing here). Upon importing an array (e.g. an astronomical image) or after manipulating it, you will often want to know some of its basic properties. There are several built-in python functions that are particularly useful for this, and you call them by typing the variable name + the operator name, as below. "
   ]
  },
  {
   "cell_type": "code",
   "execution_count": null,
   "metadata": {},
   "outputs": [],
   "source": [
    "x2d.ndim"
   ]
  },
  {
   "cell_type": "code",
   "execution_count": null,
   "metadata": {},
   "outputs": [],
   "source": [
    "x2d.shape"
   ]
  },
  {
   "cell_type": "code",
   "execution_count": null,
   "metadata": {},
   "outputs": [],
   "source": [
    "x2d.size"
   ]
  },
  {
   "cell_type": "code",
   "execution_count": null,
   "metadata": {},
   "outputs": [],
   "source": [
    "x2d.dtype"
   ]
  },
  {
   "cell_type": "markdown",
   "metadata": {},
   "source": [
    "<div class=hw>\n",
    "### Exercise 4 \n",
    "\n",
    "-------------\n",
    "\n",
    "Follow the steps below. \n",
    "\n",
    "1) Create a 10 x 10 numpy integer array and set it equal to a variable. Print it to output once you're done populating it as described below. \n",
    "  * make the first row contain the numbers 10 through 100 in steps of 10  \n",
    "  * make each element in the second row equal to 5 more than the first row  \n",
    "  * row 3 = row 1\\*10  \n",
    "  * row 4 = (row 1)$^2$  \n",
    "  * row 5 = $\\sqrt{row 2}$  \n",
    "  * row 6 = 3\\*row 3-2\\*row 4\n",
    "  * row 7 = alternating 0s and 1s, starting with 0\n",
    "  * row 8 = all 8s except the third from last element, which is -8\n",
    "  * row 9 = 1, 1/2, 1/3, 1/4, ...\n",
    "  * row 10 = all elements are 42 except for the first 4, which are 0\n",
    "\n",
    "2) copy this array into a new variable, then in the new array, multiply each number in the third column by two  \n",
    "3) set the second to last element in each row of the new array equal to 0, and print the new array as output  \n",
    "4) multiply your original array by this new array and print the output  "
   ]
  },
  {
   "cell_type": "code",
   "execution_count": null,
   "metadata": {},
   "outputs": [],
   "source": [
    "#execute this cell before beginning so that the array will be more readable when you print it\n",
    "np.set_printoptions(precision=3, suppress=True, linewidth=120)"
   ]
  },
  {
   "cell_type": "code",
   "execution_count": null,
   "metadata": {},
   "outputs": [],
   "source": []
  },
  {
   "cell_type": "markdown",
   "metadata": {},
   "source": [
    "In addition to the capabilities we've just gone through, arrays can do far more. For a full list, see http://docs.scipy.org/doc/numpy/reference/arrays.ndarray.html.\n",
    "\n",
    "# Sumbitting Prelabs and Labs for Grading\n",
    "\n",
    "This semester, you'll be doing most of your work in Jupyter notebooks, and submitting them for grading through the course Moodle site. \n",
    "\n",
    "When you're done with a notebook, click the kernel menu and select \"restart and run all\". This will make all the cells in your notebook execute in a linear fashion. Make sure that the notebook has run all the way to the end and that the cells still have sensible output. We can't grade things that don't compile. Once you're satisfied, click the kernel menu again and select \"restart & clear all output\" and then \"close and halt\" from the file menu. Then to shut down the notebook server, go back to the original window where you started things up and type ctrl-C. You will be asked for confirmation, and if you type y, the server will then shut down."
   ]
  },
  {
   "cell_type": "code",
   "execution_count": null,
   "metadata": {},
   "outputs": [],
   "source": [
    "#this cell sets up the formatting for exercise and sidebar cells\n",
    "from IPython.core.display import HTML\n",
    "def css_styling():\n",
    "    styles = open(\"../../custom.css\", \"r\").read()\n",
    "    return HTML(styles)\n",
    "css_styling()"
   ]
  },
  {
   "cell_type": "code",
   "execution_count": null,
   "metadata": {},
   "outputs": [],
   "source": []
  }
 ],
 "metadata": {
  "anaconda-cloud": {},
  "kernelspec": {
   "display_name": "Python 3",
   "language": "python",
   "name": "python3"
  },
  "language_info": {
   "codemirror_mode": {
    "name": "ipython",
    "version": 3
   },
   "file_extension": ".py",
   "mimetype": "text/x-python",
   "name": "python",
   "nbconvert_exporter": "python",
   "pygments_lexer": "ipython3",
   "version": "3.7.3"
  }
 },
 "nbformat": 4,
 "nbformat_minor": 1
}
