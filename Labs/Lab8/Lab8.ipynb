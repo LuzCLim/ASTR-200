{
 "cells": [
  {
   "cell_type": "code",
   "execution_count": 11,
   "metadata": {},
   "outputs": [],
   "source": [
    "import numpy as np\n",
    "import scipy.stats as st\n",
    "import matplotlib.pyplot as plt\n",
    "import pandas as pd\n",
    "%matplotlib inline"
   ]
  },
  {
   "cell_type": "code",
   "execution_count": 12,
   "metadata": {},
   "outputs": [
    {
     "name": "stdout",
     "output_type": "stream",
     "text": [
      "(3924, 68)\n"
     ]
    }
   ],
   "source": [
    "# these set the pandas defaults so that it will print ALL values, even for very long lists and large dataframes\n",
    "pd.set_option('display.max_columns', None)\n",
    "pd.set_option('display.max_rows', None)\n",
    "#read in the data, skipping the first 73 rows of ancillary information\n",
    "data=pd.read_csv('planets030619.csv', skiprows=72)\n",
    "print(data.shape)"
   ]
  },
  {
   "cell_type": "markdown",
   "metadata": {},
   "source": [
    "# Lab 8 \n",
    "\n",
    "Today's lab will be an exploration of how to establish and measure correlations with python. I will provide some guidance and constraints, but the exercise is fairly open ended. Clare and I are available to answer any questions and to help guide you. Your final product should be a brief (2-3pg) .pdf report describing your results. You will also hand in this notebook. It should contain well-commented code and markdown cells above code cells that describe briefly what you're doing (e.g. \"computing a covariance matrix for log variables as a comparison\").\n",
    "\n",
    "***The basic constraints are: ***\n",
    "1) You should explore the correlation between planet mass and radius   \n",
    "2) You should compare pearson, spearman, and kendall correlation coefficients    \n",
    "3) You should make data-driven decisions about the appropriateness of each correlation coefficient by exploring the distribution of the variables graphically using both histograms and scatterplots and should connect these ideas to ideas about when parametric vs. non-parametric statistics are appropriate    \n",
    "4) You should explore linear-linear, log-log, and log-linear correlations and distributions and should make a data-driven decision regarding which to use  \n",
    "5) Where appropriate, you should divide the data into multiple populations  \n",
    "6) At each step, you should compute and compare covariance (np.cov) and correlation (np.corrcoef) matrices and attempt to understand how they relate to one another and to the correlation coefficients  \n",
    "\n",
    "***Your report should answer the following questions in a data-driven (i.e. report statistics, show plots to justify your arguments) way:***  \n",
    "1) How strongly are planet mass and radius related? Is there more than one relationship evident in the data?  \n",
    "2) How did you decide which correlation coefficient was the most appropriate? Was the answer different when considering the relationships between the quantities in linear-linear, log-linear and log-log space?  \n",
    "\n",
    "***Tips:***  \n",
    "1) np.log() takes the **natural logarithm** of a quantity. To take the base 10 log, use np.log10().  \n",
    "2) you will need to begin by removing nans from the dataset. I recommend writing a filter function that uses the np.isnan() function. You may wish to define other filter functions as well during the course of your exploration.    \n",
    "3) if you choose to divide the data into two or more populations, I recommend defining new dataframes to hold each one "
   ]
  },
  {
   "cell_type": "code",
   "execution_count": 126,
   "metadata": {},
   "outputs": [
    {
     "data": {
      "text/plain": [
       "array([[<matplotlib.axes._subplots.AxesSubplot object at 0x11c8ac630>]],\n",
       "      dtype=object)"
      ]
     },
     "execution_count": 126,
     "metadata": {},
     "output_type": "execute_result"
    },
    {
     "data": {
      "image/png": "[encoded data removed]",
      "text/plain": [
       "<matplotlib.figure.Figure at 0x11c8b5b70>"
      ]
     },
     "metadata": {
      "needs_background": "light"
     },
     "output_type": "display_data"
    }
   ],
   "source": [
    "data_bigr.hist(column=\"logmass\", bins=30)"
   ]
  },
  {
   "cell_type": "code",
   "execution_count": 150,
   "metadata": {},
   "outputs": [],
   "source": [
    "pearsonrsm, pearsonpsm = st.pearsonr(data_smallr[\"logmass\"],data_smallr[\"pl_radj\"])\n",
    "spearmanrsm, spearmanpsm = st.spearmanr(data_smallr[\"logmass\"],data_smallr[\"pl_radj\"])\n",
    "kendallrsm, kendallpsm = st.kendalltau(data_smallr[\"logmass\"],data_smallr[\"pl_radj\"])"
   ]
  },
  {
   "cell_type": "code",
   "execution_count": 151,
   "metadata": {},
   "outputs": [
    {
     "name": "stdout",
     "output_type": "stream",
     "text": [
      "0.3600000002162118 0.4740372721362793 0.33661342169725456\n",
      "2.941681193289533e-08 5.976565116117404e-14 6.463206163340642e-14\n"
     ]
    }
   ],
   "source": [
    "print(pearsonrsm, spearmanrsm, kendallrsm)\n",
    "print(pearsonpsm, spearmanpsm, kendallpsm)"
   ]
  },
  {
   "cell_type": "code",
   "execution_count": 129,
   "metadata": {},
   "outputs": [],
   "source": [
    "pearsonrbg, pearsonpbg = st.pearsonr(data_bigr[\"logmass\"],data_bigr[\"pl_radj\"])\n",
    "spearmanrbg, spearmanpbg = st.spearmanr(data_bigr[\"logmass\"],data_bigr[\"pl_radj\"])\n",
    "kendallrbg, kendallpbg = st.kendalltau(data_bigr[\"logmass\"],data_bigr[\"pl_radj\"])"
   ]
  },
  {
   "cell_type": "code",
   "execution_count": 130,
   "metadata": {},
   "outputs": [
    {
     "name": "stdout",
     "output_type": "stream",
     "text": [
      "0.39932314569667415 0.3113638183503653 0.2115019352313925\n",
      "9.726328069427435e-18 4.9758599338289454e-11 6.973366981536001e-11\n"
     ]
    }
   ],
   "source": [
    "print(pearsonrbg, spearmanrbg, kendallrbg)\n",
    "print(pearsonpbg, spearmanpbg, kendallpbg)"
   ]
  },
  {
   "cell_type": "code",
   "execution_count": 84,
   "metadata": {},
   "outputs": [
    {
     "data": {
      "text/plain": [
       "array([[0.75903686, 0.3461998 ],\n",
       "       [0.3461998 , 0.29413748]])"
      ]
     },
     "execution_count": 84,
     "metadata": {},
     "output_type": "execute_result"
    }
   ],
   "source": []
  },
  {
   "cell_type": "markdown",
   "metadata": {},
   "source": [
    "Things to notice:\n",
    "\n",
    "1) Pearson r changes drastically in log space. Spearman and Kendall don't change at all. "
   ]
  },
  {
   "cell_type": "code",
   "execution_count": 87,
   "metadata": {},
   "outputs": [
    {
     "data": {
      "text/plain": [
       "array([[4.3047667 , 0.11176362],\n",
       "       [0.11176362, 0.09744796]])"
      ]
     },
     "execution_count": 87,
     "metadata": {},
     "output_type": "execute_result"
    }
   ],
   "source": []
  },
  {
   "cell_type": "code",
   "execution_count": null,
   "metadata": {},
   "outputs": [],
   "source": []
  }
 ],
 "metadata": {
  "kernelspec": {
   "display_name": "Python [default]",
   "language": "python",
   "name": "python3"
  },
  "language_info": {
   "codemirror_mode": {
    "name": "ipython",
    "version": 3
   },
   "file_extension": ".py",
   "mimetype": "text/x-python",
   "name": "python",
   "nbconvert_exporter": "python",
   "pygments_lexer": "ipython3",
   "version": "3.5.6"
  }
 },
 "nbformat": 4,
 "nbformat_minor": 2
}
