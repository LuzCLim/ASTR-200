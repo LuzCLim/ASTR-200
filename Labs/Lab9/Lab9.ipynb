{
 "cells": [
  {
   "cell_type": "code",
   "execution_count": 41,
   "metadata": {},
   "outputs": [],
   "source": [
    "import numpy as np\n",
    "import matplotlib.pyplot as plt\n",
    "import scipy.stats as stats\n",
    "%matplotlib inline"
   ]
  },
  {
   "cell_type": "code",
   "execution_count": 63,
   "metadata": {},
   "outputs": [
    {
     "name": "stdout",
     "output_type": "stream",
     "text": [
      "24\n"
     ]
    }
   ],
   "source": [
    "##Hubble's Data!\n",
    "dists = np.array([0.032,0.034,0.214,0.263,0.275,0.275,0.45,0.5,0.5,0.63,0.8,0.9,0.9,\n",
    "         0.9,0.9,1.0,1.1,1.1,1.4,1.7,2.0,2.0,2.0,2.0])#Mpc\n",
    "vels = np.array([170.,290,-130,-70,-185,-220,200,290,270,200,300,-30,650,150,500,920,450,500,500,960,500,850,800,1000]) #km/sec"
   ]
  },
  {
   "cell_type": "markdown",
   "metadata": {},
   "source": [
    "## Monte Carlo Hubble's Law Exercise\n",
    "\n",
    "1) Use the numpy.random.multivariate_normal function to create a bivariate normal distribution with the same properties as Hubble's original data. You will have to read the help function to figure out what input to give it.   \n",
    "2) Create a multipanel plot that shows a grid of 2x4 random realizations (24 points each, as with Hubble's original data) from this plot. Fit a line to the data in each case and annotate the plot with the slope (also known as the hubble constant, make sure to include units) and correlation coefficient for each realization.  \n",
    "3) Now write a simulator that will draw an arbitrary number (n) of random 24 point realizations from the distribution and will output a list of the best fit slopes and correlation coefficients for each of the realizations.  \n",
    "4) Create histograms of those two values for several different numbers of realizations.   \n",
    "5) Use your answer to design and complete a Bayesian hypothesis test (there are many possibilities!).   \n",
    "6) Write a 2-3pg report describing your method, results, and conclusions, connecting what you're doing explicitly to ideas that we've discussed in class. End by describing how you think this kind of exercise might be useful more generally.   "
   ]
  },
  {
   "cell_type": "code",
   "execution_count": null,
   "metadata": {},
   "outputs": [],
   "source": []
  },
  {
   "cell_type": "markdown",
   "metadata": {},
   "source": [
    "## Multipanel Plot Example for reference"
   ]
  },
  {
   "cell_type": "code",
   "execution_count": 65,
   "metadata": {},
   "outputs": [
    {
     "data": {
      "text/plain": [
       "[<matplotlib.lines.Line2D at 0x1a17b54630>]"
      ]
     },
     "execution_count": 65,
     "metadata": {},
     "output_type": "execute_result"
    },
    {
     "data": {
      "image/png": "[encoded data removed]",
      "text/plain": [
       "<Figure size 720x216 with 3 Axes>"
      ]
     },
     "metadata": {
      "needs_background": "light"
     },
     "output_type": "display_data"
    }
   ],
   "source": [
    "x = np.arange(0,20)\n",
    "f, (ax1, ax2, ax3) = plt.subplots(1, 3, figsize=(10,3), sharey=True)\n",
    "f.suptitle('Three plots')\n",
    "ax1.plot(x, 2*x)\n",
    "ax2.plot(x, 5*x+5)\n",
    "ax3.plot(x, -3*x+20)"
   ]
  },
  {
   "cell_type": "code",
   "execution_count": null,
   "metadata": {},
   "outputs": [],
   "source": []
  }
 ],
 "metadata": {
  "kernelspec": {
   "display_name": "Python 3",
   "language": "python",
   "name": "python3"
  },
  "language_info": {
   "codemirror_mode": {
    "name": "ipython",
    "version": 3
   },
   "file_extension": ".py",
   "mimetype": "text/x-python",
   "name": "python",
   "nbconvert_exporter": "python",
   "pygments_lexer": "ipython3",
   "version": "3.7.3"
  }
 },
 "nbformat": 4,
 "nbformat_minor": 2
}
