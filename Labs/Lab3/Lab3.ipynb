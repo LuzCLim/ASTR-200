{
 "cells": [
  {
   "cell_type": "markdown",
   "metadata": {},
   "source": [
    "# Lab 3 - Plotting and Fitting with Hubble's Law"
   ]
  },
  {
   "cell_type": "code",
   "execution_count": null,
   "metadata": {
    "collapsed": true
   },
   "outputs": [],
   "source": [
    "import numpy as np\n",
    "import matplotlib.pyplot as plt\n",
    "%matplotlib inline"
   ]
  },
  {
   "cell_type": "markdown",
   "metadata": {},
   "source": [
    "## Exercise 1\n",
    "\n",
    "Obtain Edwin Hubble's original 1928 paper \"A relation between distance and radial velocity among extra-galactic nebulae\" [here](https://www.pnas.org/content/pnas/15/3/168.full.pdf).\n",
    "\n",
    "1. Create numpy arrays with the names, distances, and velocities of the objects in table 1.\n",
    "2. Make a plot with the distance in Mpc on the x axis and the velocities in km/sec on the y axis. Label both axes and give the plot the same title as Hubble's original. Manipulate the axis ranges to be equivalent to Hubble's original. \n",
    "3. Then write a loop that prints all of the names of the galaxies from your numpy array with a new line between each. "
   ]
  },
  {
   "cell_type": "code",
   "execution_count": null,
   "metadata": {
    "collapsed": true
   },
   "outputs": [],
   "source": [
    "#lists go here"
   ]
  },
  {
   "cell_type": "code",
   "execution_count": null,
   "metadata": {
    "collapsed": true
   },
   "outputs": [],
   "source": [
    "#plot goes here"
   ]
  },
  {
   "cell_type": "code",
   "execution_count": null,
   "metadata": {
    "collapsed": true
   },
   "outputs": [],
   "source": [
    "#loop to print names goes here"
   ]
  },
  {
   "cell_type": "markdown",
   "metadata": {},
   "source": [
    "Now, let's pull modern data for Hubble's galaxies. Copy and paste the list from Exercise 1 \\#3 into the query form [here](http://ned.ipac.caltech.edu/forms/gmd.html). Before you click \"Submit Query\" though, scroll to the check boxes at the bottom of the page and make sure to check ***only*** the following:\n",
    "  *  User Input Object Name\n",
    "  *  Redshift\n",
    "  *  Redshift Uncertainty  \n",
    "  And in the bottom right panel:  \n",
    "  *  Metric Distance\n",
    "  *  Mean\n",
    "  *  Standard Deviation\n",
    "  *  Number of measurements\n",
    "    \n"
   ]
  },
  {
   "cell_type": "markdown",
   "metadata": {},
   "source": [
    "## Exercise 2\n",
    "\n",
    "1. Screenshot the output table and include the image in the markdown cell below\n",
    "2. Describe in words at least two patterns that you note in the tabular data\n",
    "3. Make numpy arrays for redshift, redshift uncertainty, distance, and standard deviation on the distance for each object. Each one should be a numpy array where its position (index) in the array corresponds to the object in your list of objects"
   ]
  },
  {
   "cell_type": "markdown",
   "metadata": {},
   "source": [
    "***Screenshot here***"
   ]
  },
  {
   "cell_type": "markdown",
   "metadata": {},
   "source": [
    "***Description of patterns here***"
   ]
  },
  {
   "cell_type": "code",
   "execution_count": null,
   "metadata": {
    "collapsed": true
   },
   "outputs": [],
   "source": [
    "#make your arrays here (may wish to use more than one cell)\n",
    "#make sure to check the length of all of your arrays to ensure that they contain 24 numbers"
   ]
  },
  {
   "cell_type": "markdown",
   "metadata": {},
   "source": [
    "## Exercise 3 \n",
    "\n",
    "The conversion between redshift (z) and recessional velocity is given by the formula below. Write a function with an appropriate docstring that applies this forumula and then run it on your redshift and redshift uncertainty arrays\\*. Your function should return an array of velocities in km/sec. \n",
    "$$z=\\sqrt{\\frac{1+\\beta}{1-\\beta}}$$\n",
    "where $\\beta$=v/c. This formula can also be written as:\n",
    "$$\\beta=\\frac{(z+1)^2-1}{(z+1)^2+1}$$\n",
    "\n",
    "\\* Note that technically we should do some more complicated error propagation here, and we will discuss this later in this class. Luckily though, this formula is roughly equivalent to z = v/c, which means that errors in z and v can be directly translated. "
   ]
  },
  {
   "cell_type": "code",
   "execution_count": null,
   "metadata": {
    "collapsed": true
   },
   "outputs": [],
   "source": [
    "#function definition here"
   ]
  },
  {
   "cell_type": "code",
   "execution_count": null,
   "metadata": {},
   "outputs": [],
   "source": [
    "#apply to your redshift and redshift uncertainty arrays here"
   ]
  },
  {
   "cell_type": "markdown",
   "metadata": {},
   "source": [
    "## Exercise 4\n",
    "\n",
    "Make the following plots, with appropriate axis labels and titles.\n",
    "\n",
    "1) A plot of the new data similar to the one you made in exercise 1, only with error bars.  \n",
    "2) A plot showing both the new and old data overplotted, with different colors for each and a legend.   \n",
    "3) A plot showing Hubble's distances vs. the new distances, with a \"1 to 1\" line overplotted  \n",
    "4) A plot showing Hubble's recessional velocities vs. the new velocities, with a \"1 to 1\" line overplotted  \n",
    "5) Discuss at least two trends that you see in the graphs. As always, your explanations need not be lengthy, but they should be ***clear and specific***."
   ]
  },
  {
   "cell_type": "code",
   "execution_count": null,
   "metadata": {
    "collapsed": true
   },
   "outputs": [],
   "source": [
    "#Plot 1 here"
   ]
  },
  {
   "cell_type": "code",
   "execution_count": null,
   "metadata": {
    "collapsed": true
   },
   "outputs": [],
   "source": [
    "#Plot 2 here"
   ]
  },
  {
   "cell_type": "code",
   "execution_count": null,
   "metadata": {
    "collapsed": true
   },
   "outputs": [],
   "source": [
    "#Plot 3 here"
   ]
  },
  {
   "cell_type": "code",
   "execution_count": null,
   "metadata": {
    "collapsed": true
   },
   "outputs": [],
   "source": [
    "# Plot 4 here"
   ]
  },
  {
   "cell_type": "markdown",
   "metadata": {},
   "source": [
    "***Explanations here***"
   ]
  },
  {
   "cell_type": "markdown",
   "metadata": {},
   "source": [
    "## Exercise 5 \n",
    "\n",
    "Time for fitting! Use the lecture notes on Model fitting as a guide to help you. \n",
    "\n",
    "1. Fit a linear model to Hubble's data and to the modern data. Make a plot showing both datasets and both fit lines. The plot should include a legend with both the points and the lines. The lines should be labeled in the legend with their equations. \n",
    "\n",
    "2. Now, let's fit a linear model to the modern data that takes the error bars in the recessional velocities into account in the fit. The problem here though is that the uncertainties in redshifts/recessional velocities are VERY small for these galaxies. So small in fact that when you overplot error bars on the data points you can't even see them (you can do this to verify). So to demonstrate differences between weighted and unweighted fits here, let's inflate them by a factor of 50. Overplot both the unweighted and weighted lines together with the modern data (with y error bars) and an appropriate legend. \n",
    "\n",
    "3. Discuss at least one trend or effect that you see in each graph. As always, your explanations need not be lengthy, but they should be ***clear, supported with references to the plot, and specific***. \n",
    "\n",
    "4. We won't do fitting with x and y error bars, but you can easily make a plot that shows errors in both quantities using plt.errorbar. Do this using the TRUE errors in velocity and distance (not the inflated values), and use your plot to make an argument about whether the \"Hubble's Law\" line is a good fit to the data. "
   ]
  },
  {
   "cell_type": "code",
   "execution_count": null,
   "metadata": {},
   "outputs": [],
   "source": [
    "#import relevant modules here"
   ]
  },
  {
   "cell_type": "code",
   "execution_count": null,
   "metadata": {
    "collapsed": true
   },
   "outputs": [],
   "source": [
    "#define a linear model function here"
   ]
  },
  {
   "cell_type": "code",
   "execution_count": null,
   "metadata": {
    "collapsed": true
   },
   "outputs": [],
   "source": [
    "#calculate the values for your two fits here and print their values (to label lines)"
   ]
  },
  {
   "cell_type": "code",
   "execution_count": null,
   "metadata": {},
   "outputs": [],
   "source": [
    "#plot 1 goes here"
   ]
  },
  {
   "cell_type": "code",
   "execution_count": null,
   "metadata": {
    "collapsed": true
   },
   "outputs": [],
   "source": [
    "#weighted fit goes here"
   ]
  },
  {
   "cell_type": "code",
   "execution_count": null,
   "metadata": {},
   "outputs": [],
   "source": [
    "#plot with error bars goes here"
   ]
  },
  {
   "cell_type": "markdown",
   "metadata": {},
   "source": [
    "***Discuss trends or effects seen here***"
   ]
  },
  {
   "cell_type": "code",
   "execution_count": null,
   "metadata": {},
   "outputs": [],
   "source": [
    "#plot with x AND y errors goes here"
   ]
  }
 ],
 "metadata": {
  "anaconda-cloud": {},
  "kernelspec": {
   "display_name": "Python 3",
   "language": "python",
   "name": "python3"
  },
  "language_info": {
   "codemirror_mode": {
    "name": "ipython",
    "version": 3
   },
   "file_extension": ".py",
   "mimetype": "text/x-python",
   "name": "python",
   "nbconvert_exporter": "python",
   "pygments_lexer": "ipython3",
   "version": "3.7.3"
  }
 },
 "nbformat": 4,
 "nbformat_minor": 1
}
