{
 "cells": [
  {
   "cell_type": "markdown",
   "metadata": {},
   "source": [
    "***Insert Names Here***"
   ]
  },
  {
   "cell_type": "markdown",
   "metadata": {},
   "source": [
    "# In Class Actvity on Error Propagation\n",
    "## April 3, 2019"
   ]
  },
  {
   "cell_type": "code",
   "execution_count": 1,
   "metadata": {
    "collapsed": true
   },
   "outputs": [],
   "source": [
    "#various things that we will need\n",
    "import pandas as pd\n",
    "import numpy as np\n",
    "import matplotlib.pyplot as plt\n",
    "%matplotlib inline\n",
    "import scipy.stats as st"
   ]
  },
  {
   "cell_type": "code",
   "execution_count": 2,
   "metadata": {
    "collapsed": true
   },
   "outputs": [],
   "source": [
    "# these set the pandas defaults so that it will print ALL values, even for very long lists and large dataframes\n",
    "pd.set_option('display.max_columns', None)\n",
    "pd.set_option('display.max_rows', None)"
   ]
  },
  {
   "cell_type": "code",
   "execution_count": 3,
   "metadata": {},
   "outputs": [
    {
     "name": "stdout",
     "output_type": "stream",
     "text": [
      "(3924, 68)\n"
     ]
    }
   ],
   "source": [
    "#read in the data, skipping the first 73 rows of ancillary information\n",
    "data=pd.read_csv('planets030619.csv', skiprows=72)\n",
    "print(data.shape)"
   ]
  },
  {
   "cell_type": "code",
   "execution_count": 4,
   "metadata": {
    "collapsed": true
   },
   "outputs": [],
   "source": [
    "#a modified filter function\n",
    "def filter(df, col, val):\n",
    "    df2=df[df[col]>=val]\n",
    "    return df2"
   ]
  },
  {
   "cell_type": "code",
   "execution_count": 5,
   "metadata": {},
   "outputs": [
    {
     "name": "stdout",
     "output_type": "stream",
     "text": [
      "(1511, 68)\n",
      "(665, 68)\n"
     ]
    }
   ],
   "source": [
    "#get rid of everything that doesn't have a mass, then everything that doesn't have a radius\n",
    "data=filter(data,\"pl_bmassj\",0)\n",
    "print(data.shape)\n",
    "data=filter(data,\"pl_radj\",0)\n",
    "print(data.shape)"
   ]
  },
  {
   "cell_type": "code",
   "execution_count": 6,
   "metadata": {},
   "outputs": [
    {
     "data": {
      "text/plain": [
       "Index(['pl_hostname', 'pl_letter', 'pl_name', 'pl_discmethod',\n",
       "       'pl_controvflag', 'pl_pnum', 'pl_orbper', 'pl_orbpererr1',\n",
       "       'pl_orbpererr2', 'pl_orbperlim', 'pl_orbsmax', 'pl_orbsmaxerr1',\n",
       "       'pl_orbsmaxerr2', 'pl_orbsmaxlim', 'pl_orbeccen', 'pl_orbeccenerr1',\n",
       "       'pl_orbeccenerr2', 'pl_orbeccenlim', 'pl_orbincl', 'pl_orbinclerr1',\n",
       "       'pl_orbinclerr2', 'pl_orbincllim', 'pl_bmassj', 'pl_bmassjerr1',\n",
       "       'pl_bmassjerr2', 'pl_bmassjlim', 'pl_bmassprov', 'pl_radj',\n",
       "       'pl_radjerr1', 'pl_radjerr2', 'pl_radjlim', 'pl_dens', 'pl_denserr1',\n",
       "       'pl_denserr2', 'pl_denslim', 'pl_ttvflag', 'pl_kepflag', 'pl_k2flag',\n",
       "       'pl_nnotes', 'ra_str', 'ra', 'dec_str', 'dec', 'st_dist', 'st_disterr1',\n",
       "       'st_disterr2', 'st_distlim', 'st_optmag', 'st_optmagerr',\n",
       "       'st_optmaglim', 'st_optband', 'gaia_gmag', 'gaia_gmagerr',\n",
       "       'gaia_gmaglim', 'st_teff', 'st_tefferr1', 'st_tefferr2', 'st_tefflim',\n",
       "       'st_mass', 'st_masserr1', 'st_masserr2', 'st_masslim', 'st_rad',\n",
       "       'st_raderr1', 'st_raderr2', 'st_radlim', 'rowupdate', 'pl_facility'],\n",
       "      dtype='object')"
      ]
     },
     "execution_count": 6,
     "metadata": {},
     "output_type": "execute_result"
    }
   ],
   "source": [
    "#remember what the columns in the dataframe are\n",
    "data.columns"
   ]
  },
  {
   "cell_type": "markdown",
   "metadata": {},
   "source": [
    "<div class=hw>\n",
    "### Exercises\n",
    "------------------\n",
    "\n",
    "1) From the mass and radius columns, compute a new column that contains the density of the planets following the standard formula for density, namely: $$\\rho = \\frac{M}{\\frac{4}{3}\\pi r^3}$$\n",
    "2) Investigate the nature of the \"error1\" and \"error2\" columns for each key variable. Why are there two for every measurement and how are they related? In what situations might it be useful to express error in this way?    \n",
    "3) Compute new total error columns for the mass and radius of the planets using both of the errors for those quantities in the table    \n",
    "4) Compute another new column with the error on the density measurement that you computed. Use the equation that you derived in class to propagate the errors property and your total errors on the mass and radius computed in 3   \n",
    "5) Make scatter plots of your computed densities vs. the densities in the table (pl_dens) and your errors on density vs. the density errors in the table (combine them, as you did in 3). What trends do you note? Are the x and y axis values/ranges the same? Why or why not do you think? Do they lie along a perfectly straight line? Why or why not, do you think?"
   ]
  },
  {
   "cell_type": "code",
   "execution_count": null,
   "metadata": {
    "collapsed": true
   },
   "outputs": [],
   "source": []
  },
  {
   "cell_type": "code",
   "execution_count": null,
   "metadata": {
    "collapsed": true
   },
   "outputs": [],
   "source": []
  },
  {
   "cell_type": "code",
   "execution_count": null,
   "metadata": {
    "collapsed": true
   },
   "outputs": [],
   "source": []
  },
  {
   "cell_type": "code",
   "execution_count": null,
   "metadata": {
    "collapsed": true
   },
   "outputs": [],
   "source": []
  },
  {
   "cell_type": "code",
   "execution_count": 7,
   "metadata": {},
   "outputs": [
    {
     "data": {
      "text/html": [
       "<style>\n",
       "div.hw {    \n",
       "    background-color: #fcf2f2;\n",
       "    border-color: #dFb5b4;\n",
       "    border-left: 5px solid #dfb5b4;\n",
       "    padding: 0.5em;\n",
       "    }\n",
       " </style>\n",
       "\n",
       "<style>\n",
       "div.sidebar {    \n",
       "    background-color: #d3d3d3;\n",
       "    border-color: #dFb5b4;\n",
       "    border-left: 5px solid #dfb5b4;\n",
       "    padding: 0.5em;\n",
       "    }\n",
       " </style>"
      ],
      "text/plain": [
       "<IPython.core.display.HTML object>"
      ]
     },
     "execution_count": 7,
     "metadata": {},
     "output_type": "execute_result"
    }
   ],
   "source": [
    "from IPython.core.display import HTML\n",
    "def css_styling():\n",
    "    styles = open(\"../custom.css\", \"r\").read()\n",
    "    return HTML(styles)\n",
    "css_styling()"
   ]
  }
 ],
 "metadata": {
  "anaconda-cloud": {},
  "kernelspec": {
   "display_name": "Python 3",
   "language": "python",
   "name": "python3"
  },
  "language_info": {
   "codemirror_mode": {
    "name": "ipython",
    "version": 3
   },
   "file_extension": ".py",
   "mimetype": "text/x-python",
   "name": "python",
   "nbconvert_exporter": "python",
   "pygments_lexer": "ipython3",
   "version": "3.7.3"
  }
 },
 "nbformat": 4,
 "nbformat_minor": 1
}
