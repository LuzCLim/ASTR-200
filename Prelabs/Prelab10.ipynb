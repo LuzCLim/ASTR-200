{
 "cells": [
  {
   "cell_type": "markdown",
   "metadata": {},
   "source": [
    "### Your Name Here\n",
    "\n",
    "# Prelab 10 - LAST!"
   ]
  },
  {
   "cell_type": "markdown",
   "metadata": {},
   "source": [
    "<div class=hw>\n",
    "    \n",
    "## Exercise 1\n",
    "\n",
    "Complete the final two exercises from Lab 10, either individually or with your Lab 10 lab partner and report the results here."
   ]
  },
  {
   "cell_type": "code",
   "execution_count": null,
   "metadata": {},
   "outputs": [],
   "source": []
  },
  {
   "cell_type": "code",
   "execution_count": null,
   "metadata": {},
   "outputs": [],
   "source": []
  },
  {
   "attachments": {},
   "cell_type": "markdown",
   "metadata": {},
   "source": [
    "<div class=hw>\n",
    "    \n",
    "## Exercise 2\n",
    "\n",
    "This week, I'd like you to complete at least one of the three required pieces of analysis for your final project. As a reminder, the options are:\n",
    "\n",
    "1.\tA model fit with a reported “quality of fit” metric. Note that this can be a fit to means/medians and does not necessarily need to be a fit to raw data. In the case of fits to means/medians you should justify your choice of statistic and use either confidence intervals or standard deviations as error bars, with justification of your choices. Do not fit anything without at least 5 data points. (see Model Fitting notes from February 13 - two options for fits with error bars are at the bottom, Lab 8)\n",
    "2.\tA classical hypothesis test, including justification of why the data are amenable to it, discussion of any decisions that you made regarding p-values, confidence intervals, etc. (see Labs 6 and 8)\n",
    "3.\tA Monte Carlo simulation and an explanation of how you decided on input parameters for the simulation and why it was necessary in the context of your investigation.  (see Labs 7 and 9)\n",
    "4.\tA Bayesian hypothesis test, including computation of a Bayes factor. For the most part, these should not be simple point estimate likelihood ratios, but should incorporate a prior and integration or summing over the likelihood to create a more informative hypothesis.  (see Lab 10 and Exercise 1 here)\n",
    "\n",
    "Describe this piece of the investigation and its results in ~2-3 paragraphs in a Markdown cell as you would summarize it in your report. Include just the final code necessary to complete the test (and not any exploratory or test steps) below. \n",
    "\n",
    "*In lab this week we will have open work time for the final project. This will be a good time to workshop and get help on your three statistical results and your exploratory and final figures and analyses, so although you are only required to report one piece of your analysis here, you should attempt as much as you can before lab to maximize your time.*"
   ]
  },
  {
   "cell_type": "code",
   "execution_count": null,
   "metadata": {},
   "outputs": [],
   "source": [
    "## Your code here"
   ]
  },
  {
   "cell_type": "markdown",
   "metadata": {},
   "source": [
    "***Your 2-3 paragraph summary here.***"
   ]
  },
  {
   "cell_type": "code",
   "execution_count": 2,
   "metadata": {},
   "outputs": [
    {
     "data": {
      "text/html": [
       "<style>\n",
       "div.hw {    \n",
       "    background-color: #fcf2f2;\n",
       "    border-color: #dFb5b4;\n",
       "    border-left: 5px solid #dfb5b4;\n",
       "    padding: 0.5em;\n",
       "    }\n",
       " </style>\n",
       "\n",
       "<style>\n",
       "div.sidebar {    \n",
       "    background-color: #d3d3d3;\n",
       "    border-color: #dFb5b4;\n",
       "    border-left: 5px solid #dfb5b4;\n",
       "    padding: 0.5em;\n",
       "    }\n",
       " </style>"
      ],
      "text/plain": [
       "<IPython.core.display.HTML object>"
      ]
     },
     "execution_count": 2,
     "metadata": {},
     "output_type": "execute_result"
    }
   ],
   "source": [
    "from IPython.core.display import HTML\n",
    "def css_styling():\n",
    "    styles = open(\"../custom.css\", \"r\").read()\n",
    "    return HTML(styles)\n",
    "css_styling()"
   ]
  }
 ],
 "metadata": {
  "kernelspec": {
   "display_name": "Python 3",
   "language": "python",
   "name": "python3"
  },
  "language_info": {
   "codemirror_mode": {
    "name": "ipython",
    "version": 3
   },
   "file_extension": ".py",
   "mimetype": "text/x-python",
   "name": "python",
   "nbconvert_exporter": "python",
   "pygments_lexer": "ipython3",
   "version": "3.7.3"
  }
 },
 "nbformat": 4,
 "nbformat_minor": 2
}
