{
 "cells": [
  {
   "cell_type": "markdown",
   "metadata": {},
   "source": [
    "### *** Name: [Insert Your Name Here]***"
   ]
  },
  {
   "cell_type": "markdown",
   "metadata": {},
   "source": [
    "# Prelab 3 - Return Statements and Plotting Basics\n",
    "\n",
    "## Lab 5 Contents\n",
    "1. Python Return Statements\n",
    "  * Functions Without Returns\n",
    "  * Return Statements as Code Breaks\n",
    "  * Return Statements for Assigned Output\n",
    "2. Basic Python Plotting"
   ]
  },
  {
   "cell_type": "code",
   "execution_count": null,
   "metadata": {
    "collapsed": false
   },
   "outputs": [],
   "source": [
    "from numpy import *"
   ]
  },
  {
   "cell_type": "markdown",
   "metadata": {},
   "source": [
    "# 1. Python Return Statements\n",
    "\n",
    "## 1.1 Functions Without Returns\n",
    "\n",
    "Thus far we've not paid much attention to function return statements. As many of you have noticed, you don't HAVE to have a return statement at the end of a function. For example:"
   ]
  },
  {
   "cell_type": "code",
   "execution_count": null,
   "metadata": {
    "collapsed": false
   },
   "outputs": [],
   "source": [
    "def dummy_func(x=0, y=0):\n",
    "    \"\"\"This function takes two optional arguments (x and y) with default values of zero and adds them together \n",
    "    to create a new variable z, then prints it.\"\"\"\n",
    "    z=x+y\n",
    "    z"
   ]
  },
  {
   "cell_type": "code",
   "execution_count": null,
   "metadata": {
    "collapsed": true
   },
   "outputs": [],
   "source": [
    "dummy_func()"
   ]
  },
  {
   "cell_type": "markdown",
   "metadata": {},
   "source": [
    "There are a  few things to note here. First that the function did not print out z, even though in an ordinary notebook cell (without a function definition) typing the variable name alone usually prints the value stored in it. That's not the case with functions because functions will only return to output what you tell them to. If you want to print the value of something within a function, then you must use a print statement. For example:"
   ]
  },
  {
   "cell_type": "code",
   "execution_count": null,
   "metadata": {
    "collapsed": false
   },
   "outputs": [],
   "source": [
    "def dummy_func(x=0, y=0):\n",
    "    \"\"\"This function takes two optional arguments (x and y) with default values of zero and adds them together \n",
    "    to create a new variable z, then prints it.\"\"\"\n",
    "    print(\"x is\", x)\n",
    "    print(\"y is\", y)\n",
    "    z=x+y\n",
    "    print(\"z is\", z)"
   ]
  },
  {
   "cell_type": "code",
   "execution_count": null,
   "metadata": {
    "collapsed": false
   },
   "outputs": [],
   "source": [
    "dummy_func(2,3)"
   ]
  },
  {
   "cell_type": "markdown",
   "metadata": {},
   "source": [
    "This brings up another subtelty that it's worth reemphasizing here - optional arguments can be specified in a function call in any order ***but*** if you don't specify which variable is which in the function call, it will assume that you are specifying them in the order that you defined them in the function. For example, as I've written the function, you should be able to specify none, one or two arguments in any order. \n",
    "\n",
    "Make sure you understand what each of the following cells are doing before moving on"
   ]
  },
  {
   "cell_type": "code",
   "execution_count": null,
   "metadata": {
    "collapsed": false
   },
   "outputs": [],
   "source": [
    "dummy_func(1)"
   ]
  },
  {
   "cell_type": "code",
   "execution_count": null,
   "metadata": {
    "collapsed": false
   },
   "outputs": [],
   "source": [
    "dummy_func(y=1)"
   ]
  },
  {
   "cell_type": "code",
   "execution_count": null,
   "metadata": {
    "collapsed": false
   },
   "outputs": [],
   "source": [
    "dummy_func(y=3,x=2)"
   ]
  },
  {
   "cell_type": "code",
   "execution_count": null,
   "metadata": {
    "collapsed": false
   },
   "outputs": [],
   "source": [
    "dummy_func(3,2)"
   ]
  },
  {
   "cell_type": "markdown",
   "metadata": {},
   "source": [
    "OK back to the function dummy_func and the idea of return statements. Note that we did not include a return statement in the definition cell. A return statement is ***not necessary*** to delimit the end of a function, though it can be visually useful in that way. \n",
    "\n",
    "In fact, a function will consist of any code that is indented beneath it. If you remove the indentation, any code that you write is no longer considered part of the function. For example:"
   ]
  },
  {
   "cell_type": "code",
   "execution_count": null,
   "metadata": {
    "collapsed": false
   },
   "outputs": [],
   "source": [
    "def dummy_func(x=0, y=0):\n",
    "    \"\"\"This function takes two optional arguments (x and y) with default values of zero and adds them together \n",
    "    to create a new variable z, then prints it.\"\"\"\n",
    "    print(\"x is\", x)\n",
    "    print(\"y is\", y)\n",
    "    z=x+y\n",
    "    print(\"z is\", z)\n",
    "\n",
    "print('This is not part of the function and will not be printed when I call it. It will print when I execute this cell')"
   ]
  },
  {
   "cell_type": "code",
   "execution_count": null,
   "metadata": {
    "collapsed": false
   },
   "outputs": [],
   "source": [
    "dummy_func()"
   ]
  },
  {
   "cell_type": "markdown",
   "metadata": {},
   "source": [
    "## 1.2 Return Statements as Code Breaks\n",
    "\n",
    "Now let's try adding a return statment to dummy_func"
   ]
  },
  {
   "cell_type": "code",
   "execution_count": null,
   "metadata": {
    "collapsed": true
   },
   "outputs": [],
   "source": [
    "def dummy_func(x=0, y=0):\n",
    "    \"\"\"This function takes two optional arguments (x and y) with default values of zero and adds them together \n",
    "    to create a new variable z, then prints it.\"\"\"\n",
    "    print(\"x is\", x)\n",
    "    print(\"y is\", y)\n",
    "    z=x+y\n",
    "    print(\"z is\", z)\n",
    "    return"
   ]
  },
  {
   "cell_type": "code",
   "execution_count": null,
   "metadata": {
    "collapsed": false
   },
   "outputs": [],
   "source": [
    "dummy_func()"
   ]
  },
  {
   "cell_type": "markdown",
   "metadata": {},
   "source": [
    "Note that nothing changed about the output when we added a return to dummy_func. Regardless of where it is embedded in a function, a return statement always tells Python that the function is complete and it should stop execution and return to a command prompt. In this way, it can sometimes be useful inside a function. For example, consider the following function (from Lab 2 solutions)"
   ]
  },
  {
   "cell_type": "code",
   "execution_count": null,
   "metadata": {
    "collapsed": true
   },
   "outputs": [],
   "source": [
    "def temp_convert(system=\"C\"):\n",
    "    \"\"\"\n",
    "    Description:\n",
    "    Asks user to input a temperature, and prints it in C, F and K. \n",
    "    \n",
    "    Required Inputs: none\n",
    "    \n",
    "    Optional Inputs:\n",
    "    system - string variable that allows the user to specify the temperature system. \n",
    "             Default is C, but F and K are also options.\n",
    "    \"\"\"\n",
    "    \n",
    "    #ask the user to enter a temperature\n",
    "    input_temp = input(\"enter a temperature (set system keyword if not Celsius):\")\n",
    "    \n",
    "    # default input type is string. Convert it to a Float\n",
    "    input_temp=float(input_temp)\n",
    "    \n",
    "    #Convert all input temperatures to Celsius\n",
    "    if system == \"C\":\n",
    "        input_temp = input_temp\n",
    "    elif system == \"F\":\n",
    "        input_temp = (input_temp-32)*5/9\n",
    "    elif system == \"K\":\n",
    "        input_temp = input_temp - 273\n",
    "    else:\n",
    "        #if system keyword is not C, F or K, exit without any output and print a warning\n",
    "        print(\"unrecognized system - please specify C, F or K\")\n",
    "        return\n",
    "    \n",
    "    #Convert and print the temperatures\n",
    "    print('Temperature in Celsius is ', str(input_temp))\n",
    "    temp_f = input_temp*9/5 + 32\n",
    "    print('Temperature in Farenheit is ', str(temp_f))\n",
    "    temp_k = input_temp + 273\n",
    "    print('Temperature in Kelvin is ', str(temp_k))\n",
    "    return"
   ]
  },
  {
   "cell_type": "code",
   "execution_count": null,
   "metadata": {
    "collapsed": false
   },
   "outputs": [],
   "source": [
    "temp_convert(system=\"B\")"
   ]
  },
  {
   "cell_type": "markdown",
   "metadata": {},
   "source": [
    "In the example above, a return statement was used mid-function in order to break out of it when a bad temperature system is specified. This returns the prompt to the user BEFORE reaching the print functions below, which are bound to fail. \n",
    "\n",
    "In this way, the return statement acts a bit like a \"break\" statement but break is only useable inside of loops (for, while) and it does not exit the entire function, but only the loop. For example, consider the following function (also from Lab #2 solutions). "
   ]
  },
  {
   "cell_type": "code",
   "execution_count": null,
   "metadata": {
    "collapsed": true
   },
   "outputs": [],
   "source": [
    "def order_please(names):\n",
    "    orders=''\n",
    "    foods=''\n",
    "    names.sort(key=len)\n",
    "    for a in names:\n",
    "        negg = input(a +\": How many eggs would you like?\")\n",
    "        spam = input(a +\": Would you like Spam (yes or no)?\")\n",
    "        if spam == \"yes\":\n",
    "            spam = \"\"\n",
    "            spam_print = \"SPAM!\"\n",
    "        elif spam == \"no\": \n",
    "            spam_print = \"NO SPAM!\"\n",
    "        else:\n",
    "            print('unrecognized answer. Please specify yes or no')\n",
    "            break\n",
    "        order =a +\" wants \"+negg + \" eggs, and \" + spam + \" Spam\"\n",
    "        food = a+\": \"+\"egg \"*int(negg)+\"and \"+spam_print\n",
    "        orders = orders+'\\n\\n'+order\n",
    "        foods = foods+'\\n'+food \n",
    "    print(orders)\n",
    "    print(foods)"
   ]
  },
  {
   "cell_type": "markdown",
   "metadata": {},
   "source": [
    "Like the return statement in the temperature conversion function, break is used here to handle unrecognized input, but here it functions only to end the for loop and not to exit the function. It will still reach the two print statements at the bottom and print any orders that were collected before the bad input. To verify this, exectute the cell below. For Rowan's order, enter 2 for eggs and no for spam. For Tasha's order, enter 3 eggs and yuck for spam. At the end, the function will still print Rowan's order, and skip Tasha's.  "
   ]
  },
  {
   "cell_type": "code",
   "execution_count": null,
   "metadata": {
    "collapsed": false
   },
   "outputs": [],
   "source": [
    "order_please(['Rowan','Tasha'])"
   ]
  },
  {
   "cell_type": "markdown",
   "metadata": {},
   "source": [
    "Note though that break will break you out of the for loop entirely. If you enter an unrecognized answer for spam in Rowan's order, it will not then ask Tasha for hers. Verify this by reexecuting the cell above and entering a bad value for spam in Rowan's order.\n",
    "\n",
    "Note too that entering return in place of break in the function above would have stopped the code entirely at that point, and would not have printed the good order before exiting. Try swapping it out in the function definition to verify this. \n",
    "\n",
    "## 1.3 Return Statements for Assigned Output\n",
    "\n",
    "Return statements are not only useful as code breaks, however. Their main purpose is to return calculated values, arrays, etc. to the user so that they can be referenced in future code cells. So far our code has mostly involved printing things, but sometimes we want to use and manupulate the output of a function and so it needs to be passed back to the user. For example:"
   ]
  },
  {
   "cell_type": "code",
   "execution_count": null,
   "metadata": {
    "collapsed": true
   },
   "outputs": [],
   "source": [
    "def dummy_func(x=0, y=0):\n",
    "    \"\"\"This function takes two optional arguments (x and y) with default values of zero and adds them together \n",
    "    to create a new variable z, then prints it.\"\"\"\n",
    "    print(\"x is\", x)\n",
    "    print(\"y is\", y)\n",
    "    z=x+y\n",
    "    print(\"z is\", z)\n",
    "    return z"
   ]
  },
  {
   "cell_type": "code",
   "execution_count": null,
   "metadata": {
    "collapsed": false
   },
   "outputs": [],
   "source": [
    "dummy_func()"
   ]
  },
  {
   "cell_type": "markdown",
   "metadata": {},
   "source": [
    "Note in executing the cell above, you now have output (z in this case). Nice, but stil not that useful since it just tells you what it is. The function returns z as output, but does not store anything in a variable called z. So even though you defined z within the function and returned it, python will not recognize the variable. You can see this by executing the cell below, which will return an error. "
   ]
  },
  {
   "cell_type": "code",
   "execution_count": null,
   "metadata": {
    "collapsed": false
   },
   "outputs": [],
   "source": [
    "z"
   ]
  },
  {
   "cell_type": "markdown",
   "metadata": {},
   "source": [
    "This is an important higher-order thing to note about functions - variables only have meaning ***within*** them, not outside them. If I want the function to return whatever I've told it to return (z) ***and*** store it in a variable, I have to tell it so via the following syntax:"
   ]
  },
  {
   "cell_type": "code",
   "execution_count": null,
   "metadata": {
    "collapsed": false
   },
   "outputs": [],
   "source": [
    "z = dummy_func()"
   ]
  },
  {
   "cell_type": "markdown",
   "metadata": {},
   "source": [
    "This time, I've told python that it should take the output of dummy_func and store it in the variable z. \n",
    "\n",
    "Functions can return arbitrary numbers of things as well"
   ]
  },
  {
   "cell_type": "code",
   "execution_count": null,
   "metadata": {
    "collapsed": true
   },
   "outputs": [],
   "source": [
    "def dummy_func(x=0, y=0):\n",
    "    \"\"\"This function takes two optional arguments (x and y) with default values of zero and adds them together \n",
    "    to create a new variable z, then prints it.\"\"\"\n",
    "    print(\"x is\", x)\n",
    "    print(\"y is\", y)\n",
    "    z=x+y\n",
    "    print(\"z is\", z)\n",
    "    return x, y, z"
   ]
  },
  {
   "cell_type": "code",
   "execution_count": null,
   "metadata": {
    "collapsed": false
   },
   "outputs": [],
   "source": [
    "dummy_func()"
   ]
  },
  {
   "cell_type": "markdown",
   "metadata": {},
   "source": [
    "And when you want to assign them to variables, you use a similar syntax, though it seems a bit funny. "
   ]
  },
  {
   "cell_type": "code",
   "execution_count": null,
   "metadata": {
    "collapsed": false
   },
   "outputs": [],
   "source": [
    "x, y, z = dummy_func()"
   ]
  },
  {
   "cell_type": "code",
   "execution_count": null,
   "metadata": {
    "collapsed": false
   },
   "outputs": [],
   "source": [
    "x"
   ]
  },
  {
   "cell_type": "code",
   "execution_count": null,
   "metadata": {
    "collapsed": false
   },
   "outputs": [],
   "source": [
    "y"
   ]
  },
  {
   "cell_type": "code",
   "execution_count": null,
   "metadata": {
    "collapsed": false
   },
   "outputs": [],
   "source": [
    "z"
   ]
  },
  {
   "cell_type": "markdown",
   "metadata": {},
   "source": [
    "Note that when you define a function with multiple return variables and you assign those returned variables into stored variables with = you ***must have an equal number of assigned variables as returned variables***. For example, the following will return an error. "
   ]
  },
  {
   "cell_type": "code",
   "execution_count": null,
   "metadata": {
    "collapsed": false
   },
   "outputs": [],
   "source": [
    "x, y = dummy_func()"
   ]
  },
  {
   "cell_type": "markdown",
   "metadata": {},
   "source": [
    "<div class=hw>\n",
    "### Exercise 1\n",
    "---------------------\n",
    "\n",
    "Write a function that does the following:  \n",
    " 1) Has one required numerical input - the distance to a galaxy  \n",
    " 2) Has one optional input - a string specifying the units for that distance, with a default value of \"Mpc\"  \n",
    " 3) If the unit specified is \"lyr\" (light years), \"pc\" (parsecs) or \"km\" (kilometers), converts the value of the numerical input to Megaparsecs  \n",
    " 4) If the unit is not one of the above or Mpc, prints a reasonable error message and exits  \n",
    " 5) Uses Hubble's law, one version of which is shown below, to compute the redshift (z) of the galaxy. c is the speed of light, d is the distance to the galaxy in Mpc, and $H_0$ is Hubble's constant, 73.5km/sec/Mpc.  \n",
    " $$z=\\frac{dH_0}{c}$$\n",
    " 6) If the computed redshift is greater than 1, print: \"The linear form of hubble's law does not provide an accurate distance estimate beyond z=1\" and exit   \n",
    " 7) Returns the redshift as a variable  "
   ]
  },
  {
   "cell_type": "code",
   "execution_count": null,
   "metadata": {
    "collapsed": true
   },
   "outputs": [],
   "source": [
    "#function definition"
   ]
  },
  {
   "cell_type": "code",
   "execution_count": null,
   "metadata": {
    "collapsed": true
   },
   "outputs": [],
   "source": [
    "#test statement"
   ]
  },
  {
   "cell_type": "markdown",
   "metadata": {},
   "source": [
    "# 2. Basic Python Plotting\n",
    "\n",
    "You've already made some plots for this course, however we have not yet manipulated their appearance in any way. For example, in Prelab #2, you made plots of the sine function that looked like this: \n",
    "\n",
    "![](sin.png \"sin plot\")\n",
    "\n",
    "As you can see, python (unlike many languages) generally does a lovely job with coloring, line thickness etc. with simple plot commands. It does not, however, add titles, axis labels, legends, etc. and these are ***very*** important things to include. From now on, any plots that you make in Labs or homeworks should always, at a minimum, include: axis labels (including units), a plot title, and a legend in any case where there's more than one line on the same plot. \n",
    "\n",
    "There are many useful optional inputs to the plot command that allow you to tweak the appearance of the plot, including: linestyle, color, placement of the legend, etc. \n",
    "\n",
    "So let's learn the basics by plotting some things. \n",
    "\n",
    "So far we have been using the command %pylab inline to allow jupyter to insert inline plots in our notebooks. Now we are going to do this more properly by importing the matplotlib library's plotting module pyplot an then telling the notebook that you still want it to display any plots inline (inside the notebook) with the magic function %matplotlib inline with the following lines"
   ]
  },
  {
   "cell_type": "code",
   "execution_count": null,
   "metadata": {
    "collapsed": true
   },
   "outputs": [],
   "source": [
    "import matplotlib.pyplot as plt\n",
    "%matplotlib inline"
   ]
  },
  {
   "cell_type": "markdown",
   "metadata": {},
   "source": [
    "This gives you access to all of pyplot's functions in the usual way of calling modules (plt.functionname). For example:"
   ]
  },
  {
   "cell_type": "code",
   "execution_count": null,
   "metadata": {
    "collapsed": false
   },
   "outputs": [],
   "source": [
    "x=arange(-10,10,0.01)\n",
    "y=x**2\n",
    "plt.plot(x, y)"
   ]
  },
  {
   "cell_type": "markdown",
   "metadata": {},
   "source": [
    "Here are some especially useful pyplot functions, called with plt.functionname(input(s)):\n",
    "\n",
    "* xlim and ylim set the range of the x and y axes, respectively and they have two required inputs - a minimum and maximum for the range. By default, pylab will set axis ranges to encompass all of the values in the x and y arrays that you specified in the plot call, but there are many cases where you might want to \"zoom in\" on certain regions of the plot. \n",
    "* xlabel and ylabel set the labels for the x and y axes, respectively and have a required string input. \n",
    "* title sets the title of the plot and also requires a string input.\n",
    " \n",
    "Line properties are controlled with optional keywords to the plot function, namely the commands *color*, *linestyle* and *linewidth*. The first two have required string arguments (lists of the options are available here), and the third (linewidth) requires a numerical argument in multiples of the default linewidth (1).  \n",
    "\n",
    "These can be specified either in the call to the function or separately before or after the plot call.\n",
    "\n",
    "See the cell below for an example of all of these at play"
   ]
  },
  {
   "cell_type": "code",
   "execution_count": null,
   "metadata": {
    "collapsed": false
   },
   "outputs": [],
   "source": [
    "plt.xlim(-5,5)\n",
    "plt.ylim(0,20)\n",
    "plt.xlabel(\"the independent variable (no units)\")\n",
    "plt.ylabel(\"the dependent variable (no units)\")\n",
    "plt.title(\"The Quadratic Function\")\n",
    "plt.plot(x, y, color='red',linestyle='--', linewidth=2.5)"
   ]
  },
  {
   "cell_type": "markdown",
   "metadata": {},
   "source": [
    "Note these functions can be set before or after the plot command as long as they're within the same cell. "
   ]
  },
  {
   "cell_type": "code",
   "execution_count": null,
   "metadata": {
    "collapsed": false
   },
   "outputs": [],
   "source": [
    "plt.plot(x, y, color='red',linestyle='--', linewidth=2.5)\n",
    "plt.xlim(-5,5)\n",
    "plt.ylim(0,20)\n",
    "plt.xlabel(\"the independent variable (no units)\")\n",
    "plt.ylabel(\"the dependent variable (no units)\")\n",
    "plt.title(\"The Quadratic Function\")"
   ]
  },
  {
   "cell_type": "markdown",
   "metadata": {},
   "source": [
    "As you have already encountered in your labs and homeworks, it is often useful to overplot functions on top of one another, which we do with multiple plot commands. In this case, what you need to make a quality graphic is a legend to label which is which. For example, let's plot the cubic function on top of the quadratic. In doing so below, note that we don't actually **have** to specify a separate variable, but that the arguments to a plot command can be combinations of variables"
   ]
  },
  {
   "cell_type": "code",
   "execution_count": null,
   "metadata": {
    "collapsed": false
   },
   "outputs": [],
   "source": [
    "plt.plot(x,x**2)\n",
    "plt.plot(x,x**3)"
   ]
  },
  {
   "cell_type": "markdown",
   "metadata": {},
   "source": [
    "To add a legend to a plot, you use the pyplot function legend. Perhaps the simplest way to use this function is to assign labels to each line plot with the label keyword, as below, and then call legend with no input. Note that the label keyword requires string input and that you can use LaTeX syntax within those labels"
   ]
  },
  {
   "cell_type": "code",
   "execution_count": null,
   "metadata": {
    "collapsed": false
   },
   "outputs": [],
   "source": [
    "plt.plot(x,x**2, label='$x^2$')\n",
    "plt.plot(x,x**3, label='$x^3$')\n",
    "plt.legend()"
   ]
  },
  {
   "cell_type": "markdown",
   "metadata": {},
   "source": [
    "As you can see above, the default for a legend is to place it at the upper right of the plot, even when it obscures the underlying lines and to draw a solid line around it (bounding box). Generally speaking, bounding boxes are rather ugly, so you should nearly always (unless you really want to set the legend apart) use the optional Boolean (True or False) keyword \"frameon\" to turn this off. Legend also takes the optional keyword loc to set the location of the legend. Loc should be a string, and you can see the full list of options by accessing help for the legend function by hitting shift+tab+tab inside of the plt.legend parentheses below."
   ]
  },
  {
   "cell_type": "code",
   "execution_count": null,
   "metadata": {
    "collapsed": false
   },
   "outputs": [],
   "source": [
    "plt.plot(x,x**2, label='$x^2$')\n",
    "plt.plot(x,x**3, label='$x^3$')\n",
    "plt.legend(loc=\"lower right\", frameon=False)"
   ]
  },
  {
   "cell_type": "markdown",
   "metadata": {},
   "source": [
    "<div class=hw>\n",
    "### Exercise 2\n",
    "---------------------\n",
    "\n",
    "Make a plot that meets the following criteria:\n",
    "* plots $x^a$ for all integer values of a between 0 and 5\n",
    "* labels the x and y axes appropriately\n",
    "* includes an appropriate descriptive title\n",
    "* zooms in on a region of the plot where you find the differences between the functions to be the most interesting\n",
    "* sets linestyles and colors to be distinct for each function\n",
    "* makes a legend without a bounding box at an appropriate location"
   ]
  },
  {
   "cell_type": "code",
   "execution_count": null,
   "metadata": {
    "collapsed": true
   },
   "outputs": [],
   "source": [
    "# plotting code here"
   ]
  },
  {
   "cell_type": "code",
   "execution_count": 1,
   "metadata": {
    "collapsed": false
   },
   "outputs": [
    {
     "data": {
      "text/html": [
       "<style>\n",
       "div.hw {    \n",
       "    background-color: #fcf2f2;\n",
       "    border-color: #dFb5b4;\n",
       "    border-left: 5px solid #dfb5b4;\n",
       "    padding: 0.5em;\n",
       "    }\n",
       " </style>\n",
       "\n",
       "<style>\n",
       "div.sidebar {    \n",
       "    background-color: #d3d3d3;\n",
       "    border-color: #dFb5b4;\n",
       "    border-left: 5px solid #dfb5b4;\n",
       "    padding: 0.5em;\n",
       "    }\n",
       " </style>"
      ],
      "text/plain": [
       "<IPython.core.display.HTML object>"
      ]
     },
     "execution_count": 1,
     "metadata": {},
     "output_type": "execute_result"
    }
   ],
   "source": [
    "from IPython.core.display import HTML\n",
    "def css_styling():\n",
    "    styles = open(\"../../custom.css\", \"r\").read()\n",
    "    return HTML(styles)\n",
    "css_styling()"
   ]
  },
  {
   "cell_type": "code",
   "execution_count": null,
   "metadata": {
    "collapsed": true
   },
   "outputs": [],
   "source": []
  }
 ],
 "metadata": {
  "anaconda-cloud": {},
  "kernelspec": {
   "display_name": "Python [conda root]",
   "language": "python",
   "name": "conda-root-py"
  },
  "language_info": {
   "codemirror_mode": {
    "name": "ipython",
    "version": 3
   },
   "file_extension": ".py",
   "mimetype": "text/x-python",
   "name": "python",
   "nbconvert_exporter": "python",
   "pygments_lexer": "ipython3",
   "version": "3.5.2"
  }
 },
 "nbformat": 4,
 "nbformat_minor": 1
}
