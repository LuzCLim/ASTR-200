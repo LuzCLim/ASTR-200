{
 "cells": [
  {
   "cell_type": "markdown",
   "metadata": {},
   "source": [
    "### *** Names: [Insert Your Name Here]***"
   ]
  },
  {
   "cell_type": "markdown",
   "metadata": {},
   "source": [
    "# Prelab 6\n",
    "\n",
    "##  Prelab 6 Contents\n",
    "\n",
    "1. Creating Statistical Graphics from Pandas DataFrames\n",
    "2. Filtering/Selecting a Subset of Data\n",
    "3. Testing Differences Between Datasets\n",
    "  * Computing Confidence Intervals"
   ]
  },
  {
   "cell_type": "code",
   "execution_count": null,
   "metadata": {
    "collapsed": true
   },
   "outputs": [],
   "source": [
    "#various things that we will need\n",
    "import pandas as pd\n",
    "import numpy as np\n",
    "import matplotlib.pyplot as plt\n",
    "%matplotlib inline\n",
    "import scipy.stats as st"
   ]
  },
  {
   "cell_type": "code",
   "execution_count": null,
   "metadata": {},
   "outputs": [],
   "source": [
    "# these set the pandas defaults so that it will print ALL values, even for very long lists and large dataframes\n",
    "pd.set_option('display.max_columns', None)\n",
    "pd.set_option('display.max_rows', None)"
   ]
  },
  {
   "cell_type": "markdown",
   "metadata": {},
   "source": [
    "Read in the QuaRCS data as a pandas dataframe called \"data\"."
   ]
  },
  {
   "cell_type": "code",
   "execution_count": null,
   "metadata": {},
   "outputs": [],
   "source": [
    "#read in the data, skipping the first 73 rows of ancillary information\n",
    "data=pd.read_csv('planets030619.csv', skiprows=72)\n",
    "print(data.shape)"
   ]
  },
  {
   "cell_type": "code",
   "execution_count": null,
   "metadata": {},
   "outputs": [],
   "source": [
    "data.columns"
   ]
  },
  {
   "cell_type": "markdown",
   "metadata": {},
   "source": [
    "To make the dataset a bit more manageable for plotting, we'll truncate it to include only planet discovery methods that have found more than 30 planets and also only things that are legitimately classified as planets (masses < 13 Jupiter masses). You don't have to understand everything that's going on in the cell below, however some of the techniques employed may be useful to you later, so I recommend you spend a few minutes trying to undertsand what's going on. "
   ]
  },
  {
   "cell_type": "code",
   "execution_count": null,
   "metadata": {},
   "outputs": [],
   "source": [
    "#this truncates to only planet detection methods with >30 successful detections (skip if you want all of them)\n",
    "methods,methods_inds,methods_counts = np.unique(data['pl_discmethod'],return_index=True,return_counts=True)\n",
    "methods = methods[methods_counts> 30]\n",
    "print(\"I am keeping only the following discovery methods: \", methods)\n",
    "\n",
    "#find the indices of all entries where pl_discmethod is one of these four\n",
    "inds = [j for j in range(len(data)) if data['pl_discmethod'][j] in methods and data['pl_bmassj'][j] < 13.]\n",
    "\n",
    "#write a new dataframe with just these entries\n",
    "data2 = data.loc[inds]\n",
    "\n",
    "#note the table is much smaller than it once was\n",
    "print(\"My shape is now: \", data2.shape)"
   ]
  },
  {
   "cell_type": "markdown",
   "metadata": {},
   "source": [
    "## 1. Creating Statistical Graphics from Pandas DataFrames"
   ]
  },
  {
   "cell_type": "markdown",
   "metadata": {},
   "source": [
    "<div class=hw>\n",
    "### Exercise 1 - Summary plots for distributions\n",
    "\n",
    "*Warning: Although you will be using Exoplanet database data to investigate and experiment with each type of plot below, when you write up your descriptions, they should refer to the **general properties** of the plots, and not to the exoplanet data specifically. In other words, your descriptions should be general descriptions of the plot types that could be applied to any dataset.*\n",
    "\n",
    "### 1a - Histogram\n",
    "The syntax for creating a histogram for a pandas dataframe column is: \n",
    "\n",
    "dataframe[\"Column Name\"].hist(bins=nbins)\n",
    "\n",
    "Play around with the column name and bins and refer to the docstring as needed until you understand thoroughly what is being shown. Describe what this ***type of plot*** (not any individual plot that you've made) shows in words and describe when you think it might be useful. \n",
    "\n",
    "Play around with inputs (e.g. column name) until you find a case (dataframe column) where you think the histogram tells you something important and use it as an example to inform your answer. Inputs that do not produce informative histograms should also help to inform your answer. Save a couple of representative histograms (good and bad, use plt.savefig(\"figure name\")) and integrate them into your written (markdown) explanation to support your argument. "
   ]
  },
  {
   "cell_type": "code",
   "execution_count": null,
   "metadata": {},
   "outputs": [],
   "source": [
    "#this cell is for playing around with histograms"
   ]
  },
  {
   "cell_type": "markdown",
   "metadata": {},
   "source": [
    "*Your explanation here, with figures*"
   ]
  },
  {
   "cell_type": "markdown",
   "metadata": {},
   "source": [
    "<div class=hw>\n",
    "### 1b - Box plot\n",
    "\n",
    "The syntax for creating a box plot for a pair of pandas dataframe columns is: \n",
    "\n",
    "dataframe.boxplot(column=\"column name 1\", by=\"column name 2\")\n",
    "\n",
    "Play around with the column and by variables and refer to the docstring as needed until you understand thoroughly what is being shown. Describe what this ***type of plot*** (not any individual plot that you've made) shows in words and describe when you think it might be useful. \n",
    "\n",
    "Play around with inputs (e.g. column names) until you find a case that you think is well-described by a box and whisker plot and use it as an example to inform your answer. Inputs that do not produce informative box plots should also help to inform your answer. Save a couple of representative box plots (good and bad) and integrate them into your written explanation.  "
   ]
  },
  {
   "cell_type": "code",
   "execution_count": null,
   "metadata": {},
   "outputs": [],
   "source": [
    "#your sample boxplot code here"
   ]
  },
  {
   "cell_type": "markdown",
   "metadata": {},
   "source": [
    "*Your explanation here*"
   ]
  },
  {
   "cell_type": "markdown",
   "metadata": {},
   "source": [
    "<div class=hw>\n",
    "### 1c - Scatter Plot\n",
    "The syntax for creating a scatter plot is: \n",
    "\n",
    "dataframe.plot.scatter(x='column name',y='column name')\n",
    "\n",
    "Play around with the column and refer to the docstring as needed until you understand thoroughly what is being shown. Describe what this ***type of plot*** (not any individual plot that you've made) shows in words and describe when you think it might be useful.\n",
    "\n",
    "Play around with inputs (e.g. column names) until you find a case that you think is well-described by a scatter plot and use it as an example to inform your answer. Inputs that do not produce informative scatter plots should also help to inform your answer. Save a couple of representative pie charts (good and bad) and integrate them into your written explanation.  "
   ]
  },
  {
   "cell_type": "code",
   "execution_count": null,
   "metadata": {
    "collapsed": true
   },
   "outputs": [],
   "source": [
    "#your sample scatter plot code here"
   ]
  },
  {
   "cell_type": "markdown",
   "metadata": {},
   "source": [
    "*Your explanation here*"
   ]
  },
  {
   "cell_type": "markdown",
   "metadata": {},
   "source": [
    "## 2.  Filtering/ Selecting a Subset of Data\n",
    "\n",
    "You will find it quite useful for the rest of this class to be able to select subsets from larger datasets. One basic form of filtering employs conditionals inside of square brackets. For example:"
   ]
  },
  {
   "cell_type": "code",
   "execution_count": null,
   "metadata": {},
   "outputs": [],
   "source": [
    "x = np.array(np.arange(10))\n",
    "print(x)\n",
    "y=x[x > 3]\n",
    "print(y)"
   ]
  },
  {
   "cell_type": "markdown",
   "metadata": {},
   "source": [
    "<div class=hw>\n",
    "### Exercise 2\n",
    "--------------\n",
    "\n",
    "Write a function called \"filter\" that takes a dataframe, column name, and value for that column as input and returns a new dataframe containing only those rows where column name = value. For example filter(data, \"PRE_GENDER\", 1) should return a dataframe about half the size of the original dataframe where all values in the PRE_GENDER column are 1. "
   ]
  },
  {
   "cell_type": "code",
   "execution_count": null,
   "metadata": {
    "collapsed": true
   },
   "outputs": [],
   "source": [
    "#your function here"
   ]
  },
  {
   "cell_type": "code",
   "execution_count": null,
   "metadata": {
    "collapsed": true
   },
   "outputs": [],
   "source": [
    "#your tests here"
   ]
  },
  {
   "cell_type": "markdown",
   "metadata": {},
   "source": [
    "*** If you get to this point during lab time on Tuesday, stop here***\n",
    "\n",
    "## 3. Testing Differences Between Datasets \n",
    "\n",
    "### 3.1 Computing Confidence Intervals\n",
    "\n",
    "Now that we have a mechanism for filtering the dataset, we can test differences between groups with confidence intervals. The syntax for computing the confidence interval on a mean for a given variable is as follows. \n",
    "\n",
    "variable1 = st.t.interval(conf_level,n,loc=np.nanmean(variable2), scale=st.sem(variable2))\n",
    "\n",
    "where conf_level is the confidence level you with to calculate (e.g. 0.95 is 95% confidence, 0.98 is 98%, etc.)\n",
    "n is the number of samples and should generally be set to the number of valid entries in variable2 -1. \n",
    "\n",
    "An example can be found below (if your filter function is working as specified)."
   ]
  },
  {
   "cell_type": "code",
   "execution_count": null,
   "metadata": {},
   "outputs": [],
   "source": [
    "## apply filter to select only men from data, and pull the scores from this group into a variable\n",
    "df2=filter(data2,'pl_discmethod','Transit')\n",
    "transit_radii=df2['pl_radj']\n",
    "#print mean\n",
    "print(np.nanmean(transit_radii))"
   ]
  },
  {
   "cell_type": "code",
   "execution_count": null,
   "metadata": {},
   "outputs": [],
   "source": [
    "#compute 95% confidence intervals on the mean (low and high)\n",
    "transitradii_conf=st.t.interval(0.95, len(transit_radii)-1, loc=np.nanmean(transit_radii), \n",
    "                                scale=st.sem(transit_radii, nan_policy='omit'))\n",
    "transitradii_conf"
   ]
  },
  {
   "cell_type": "markdown",
   "metadata": {},
   "source": [
    "<div class=hw>\n",
    "### Exercise 3\n",
    "------------------\n",
    "\n",
    "Choose a planet property that you find interesting and compare the mean for that property across the four discovery methods. Then write a paragraph describing the results. Are the differences between the groups significant according to your data? Would they still be significant if you were to compute the 98% (3-sigma) confidence intervals?"
   ]
  },
  {
   "cell_type": "code",
   "execution_count": null,
   "metadata": {
    "collapsed": true
   },
   "outputs": [],
   "source": [
    "#code to filter data and compute confidence intervals for each answer choice"
   ]
  },
  {
   "cell_type": "markdown",
   "metadata": {},
   "source": [
    "***explanatory text***"
   ]
  },
  {
   "cell_type": "code",
   "execution_count": 1,
   "metadata": {},
   "outputs": [
    {
     "data": {
      "text/html": [
       "<style>\n",
       "div.hw {    \n",
       "    background-color: #fcf2f2;\n",
       "    border-color: #dFb5b4;\n",
       "    border-left: 5px solid #dfb5b4;\n",
       "    padding: 0.5em;\n",
       "    }\n",
       " </style>\n",
       "\n",
       "<style>\n",
       "div.sidebar {    \n",
       "    background-color: #d3d3d3;\n",
       "    border-color: #dFb5b4;\n",
       "    border-left: 5px solid #dfb5b4;\n",
       "    padding: 0.5em;\n",
       "    }\n",
       " </style>"
      ],
      "text/plain": [
       "<IPython.core.display.HTML object>"
      ]
     },
     "execution_count": 1,
     "metadata": {},
     "output_type": "execute_result"
    }
   ],
   "source": [
    "from IPython.core.display import HTML\n",
    "def css_styling():\n",
    "    styles = open(\"../../custom.css\", \"r\").read()\n",
    "    return HTML(styles)\n",
    "css_styling()"
   ]
  }
 ],
 "metadata": {
  "anaconda-cloud": {},
  "kernelspec": {
   "display_name": "Python 3",
   "language": "python",
   "name": "python3"
  },
  "language_info": {
   "codemirror_mode": {
    "name": "ipython",
    "version": 3
   },
   "file_extension": ".py",
   "mimetype": "text/x-python",
   "name": "python",
   "nbconvert_exporter": "python",
   "pygments_lexer": "ipython3",
   "version": "3.7.3"
  }
 },
 "nbformat": 4,
 "nbformat_minor": 1
}
