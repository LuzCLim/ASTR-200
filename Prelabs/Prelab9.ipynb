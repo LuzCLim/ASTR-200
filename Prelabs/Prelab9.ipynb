{
 "cells": [
  {
   "cell_type": "markdown",
   "metadata": {},
   "source": [
    "# Prelab 9"
   ]
  },
  {
   "cell_type": "markdown",
   "metadata": {},
   "source": [
    "<div class=hw>\n",
    "\n",
    "### Final Project Proposal\n",
    "---------------\n",
    "\n",
    "This week, your job in the prelab is to propose two ideas for your final project. You should address each of the following questions in a separate document, *which you should submit as a singe .pdf file on Moodle*.\n",
    "\n",
    "1) What dataset have you chosen for your final project and why? How many entries (rows) does it have and how many variables (columns)? \n",
    "2) Provide links to and summarize in 1 paragraph each at least two external websites that you found to help you understand the nature of the dataset you've decided to work with. Focus your summaries on what you learned from these sites about the nature of the objects and variables captured in your dataset. Your explanation of the dataset should contain at least two explanatory figures that you found on those sites with descriptive captions written by you describing what the figure shows and why it is important. \n",
    "3) What did you have to do to download data from your chosen database? What format did you obtain the data in and what did you have to do to read it in to pandas in a workable form? Your explanation should be sufficiently detailed so that one of your peers could successfully find and import the same data. \n",
    "4) Propose in detail ***two*** questions that you think this dataset is able to answer/inform. Your proposal should include a detailed explanation of how you arrived at those questions and should demonstrate through exploratory calculations/visualizations that these questions are tractable (e.g. the dataset is capable of answering it, the population that you wish to study is sufficiently distinct in certain variables, etc.).\n",
    "5) Justify in one paragraph each why you think these questions might be ***interesting/important***. You should connect your questions to your background reading wherever possible and provide links.\n",
    "6) Finally, [sign up for a time](https://doodle.com/poll/ucf56k3274fb9q9b) to meet with Professor Follette to discuss your final project. \n",
    "\n",
    "#### Suggested Database Links\n",
    "\n",
    "1) [The Gaia Archive](https://gea.esac.esa.int/archive/)     \n",
    "2) [The IPAC Infrared Science Archive](https://irsa.ipac.caltech.edu/frontpage/)   \n",
    "3) [Kepler and K2 Data Archives](https://keplerscience.arc.nasa.gov/data-products.html)    \n",
    "4) [The Sloan Digital Sky Survey Catalog](https://www.sdss.org/dr12/data_access/)  \n",
    "5) [NASA Extragalactic Database](https://ned.ipac.caltech.edu/byparams)    \n",
    "6) [JPL Solar System Dynamics Databse](https://ssd.jpl.nasa.gov/?phys_data)   "
   ]
  },
  {
   "cell_type": "code",
   "execution_count": 1,
   "metadata": {},
   "outputs": [
    {
     "data": {
      "text/html": [
       "<style>\n",
       "div.hw {    \n",
       "    background-color: #fcf2f2;\n",
       "    border-color: #dFb5b4;\n",
       "    border-left: 5px solid #dfb5b4;\n",
       "    padding: 0.5em;\n",
       "    }\n",
       " </style>\n",
       "\n",
       "<style>\n",
       "div.sidebar {    \n",
       "    background-color: #d3d3d3;\n",
       "    border-color: #dFb5b4;\n",
       "    border-left: 5px solid #dfb5b4;\n",
       "    padding: 0.5em;\n",
       "    }\n",
       " </style>"
      ],
      "text/plain": [
       "<IPython.core.display.HTML object>"
      ]
     },
     "execution_count": 1,
     "metadata": {},
     "output_type": "execute_result"
    }
   ],
   "source": [
    "from IPython.core.display import HTML\n",
    "def css_styling():\n",
    "    styles = open(\"../../custom.css\", \"r\").read()\n",
    "    return HTML(styles)\n",
    "css_styling()"
   ]
  }
 ],
 "metadata": {
  "anaconda-cloud": {},
  "kernelspec": {
   "display_name": "Python 3",
   "language": "python",
   "name": "python3"
  },
  "language_info": {
   "codemirror_mode": {
    "name": "ipython",
    "version": 3
   },
   "file_extension": ".py",
   "mimetype": "text/x-python",
   "name": "python",
   "nbconvert_exporter": "python",
   "pygments_lexer": "ipython3",
   "version": "3.7.3"
  }
 },
 "nbformat": 4,
 "nbformat_minor": 1
}
