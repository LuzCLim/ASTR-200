{
 "cells": [
  {
   "cell_type": "markdown",
   "metadata": {},
   "source": [
    "*The exercises in this prelab were modified from the [Practical Python for Astronomers Workshop Materials](http://python4astronomers.github.io), though expanded and made to work in a notebook*"
   ]
  },
  {
   "cell_type": "markdown",
   "metadata": {},
   "source": [
    "*** Your Name Here ***"
   ]
  },
  {
   "cell_type": "code",
   "execution_count": null,
   "metadata": {
    "collapsed": false
   },
   "outputs": [],
   "source": [
    "import numpy as np\n",
    "import matplotlib.pyplot as plt\n",
    "%matplotlib inline\n",
    "%load_ext autoreload\n",
    "import time\n",
    "%autoreload 2\n",
    "%matplotlib notebook"
   ]
  },
  {
   "cell_type": "markdown",
   "metadata": {},
   "source": [
    "## Exercise 1 \n",
    "\n",
    "Below is a function that creates a bouncing balls demo. Execute the definition cell and the cell that calls the function below to see what it looks like. Copy it to a new cell so that you preserve the original for reference. Then, play with it (change numbers, comment things out, etc.) until you can answer the following questions, which you should do here at the top of the notebook.\n",
    "\n",
    "a) What line(s) make it possible for the plot to be regenerated inside the notebook and to make it run like a movie?  \n",
    "b) What kinds of random numbers are generated and what are they used for?  \n",
    "c) What does the .reshape method do, and why might it be useful?  \n",
    "d) What do you have to change in order to make the simulation:  \n",
    "    * run for longer  \n",
    "    * create more balls  \n",
    "    * give the balls a bigger box to bounce off of  \n",
    "    * make the balls bounce faster on average  \n",
    "    * increase the average size of the balls   \n",
    "    * change the shape of the balls   \n",
    "\n",
    "## Exercise 2\n",
    "\n",
    "Copy the original bounce function into a new cell and modify it to be a function called bounce_yourlastname. For example bounce_follette. Modify it to do something interesting. For example:\n",
    "\n",
    "* Change the colors and/or sizes of the balls dynamically\n",
    "* Use other shapes and make them spin\n",
    "* Put in animated text with the text() command. You’ll need to do something like mytext = text(...) and then figure out how to change the properties of the text (e.g. rotation angle) using mytext.get_$<TAB>$ and mytext.set_$<TAB>$ and help mytext.\n",
    "* Do silly things like make the tick labels change colors and/or spin following the example code at the end of the [Axis containers documentation](https://matplotlib.org/users/artists.html#axis-containers).\n",
    "* Put in physics, like making the balls bounce off each other, including gravity, or ???\n",
    "\n",
    "Your functions will be showcased in class (with a prize for the best one).\n",
    "\n",
    "## Exercise 3\n",
    "In 2-3 paragraphs, propose a question or area of interest for Project 2, including what kind of analysis you propose to do (fitting or hypothesis test and why). Describe how you arrived at this question. You may need to play with the exoplanet database some in order to generate ideas, but your most recent labs and prelabs should help provide some ideas for how to effectively explore the dataset. List any questions or concerns that you have and outline some of the information gathering/exploratory analyses you will need to do to inform that question and complete the project. "
   ]
  },
  {
   "cell_type": "code",
   "execution_count": null,
   "metadata": {
    "collapsed": false
   },
   "outputs": [],
   "source": [
    "def bounce():\n",
    "    import numpy as np\n",
    "    import matplotlib.pyplot as plt\n",
    "\n",
    "    fig=plt.figure()\n",
    "    ax=fig.add_subplot(111)\n",
    "    plt.axis([-10, 10, -10, 10])\n",
    "    plt.ion()\n",
    "    fig.show()\n",
    "    fig.canvas.draw()\n",
    "\n",
    "    # Define properties of the \"bouncing balls\"\n",
    "    n = 10\n",
    "    pos = (20 * np.random.sample(n*2) - 10).reshape(n, 2)\n",
    "    vel = (0.3 * np.random.normal(size=n*2)).reshape(n, 2)\n",
    "    sizes = 100 * np.random.sample(n) \n",
    "\n",
    "    # Colors where each row is (Red, Green, Blue, Alpha).  Each can go\n",
    "    # from 0 to 1.  Alpha is the transparency.\n",
    "    colors = np.random.sample([n, 4])\n",
    "\n",
    "    # Draw all the circles and return an object ``circles`` that allows\n",
    "    # manipulation of the plotted circles.\n",
    "    circles = plt.scatter(pos[:,0], pos[:,1], marker='o', s=sizes, c=colors)\n",
    "    \n",
    "    for i in range(100):\n",
    "        pos = pos + vel\n",
    "        bounce = abs(pos) > 10      # Find balls that are outside walls\n",
    "        vel[bounce] = -vel[bounce]  # Bounce if outside the walls\n",
    "        circles.set_offsets(pos)    # Change the positions\n",
    "        fig.canvas.draw()\n",
    "        plt.show()"
   ]
  },
  {
   "cell_type": "code",
   "execution_count": null,
   "metadata": {
    "collapsed": false
   },
   "outputs": [],
   "source": [
    "#runs the function\n",
    "bounce()"
   ]
  },
  {
   "cell_type": "code",
   "execution_count": null,
   "metadata": {
    "collapsed": true
   },
   "outputs": [],
   "source": []
  }
 ],
 "metadata": {
  "anaconda-cloud": {},
  "kernelspec": {
   "display_name": "Python [default]",
   "language": "python",
   "name": "python3"
  },
  "language_info": {
   "codemirror_mode": {
    "name": "ipython",
    "version": 3
   },
   "file_extension": ".py",
   "mimetype": "text/x-python",
   "name": "python",
   "nbconvert_exporter": "python",
   "pygments_lexer": "ipython3",
   "version": "3.5.2"
  }
 },
 "nbformat": 4,
 "nbformat_minor": 1
}
